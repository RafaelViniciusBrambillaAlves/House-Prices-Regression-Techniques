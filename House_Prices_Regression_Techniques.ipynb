{
  "nbformat": 4,
  "nbformat_minor": 0,
  "metadata": {
    "colab": {
      "provenance": [],
      "collapsed_sections": [
        "2d2nyxczSTQ5",
        "1J-PS1bVUW73",
        "HslFENtGfl3V"
      ]
    },
    "kernelspec": {
      "name": "python3",
      "display_name": "Python 3"
    },
    "language_info": {
      "name": "python"
    }
  },
  "cells": [
    {
      "cell_type": "markdown",
      "source": [
        "# 🏠 House Prices - Regression Techniques\n",
        "\n"
      ],
      "metadata": {
        "id": "saQRJu36LtYd"
      }
    },
    {
      "cell_type": "markdown",
      "source": [
        "\n",
        "## 📚 Bibliotecas\n",
        "\n",
        "***"
      ],
      "metadata": {
        "id": "GD_QOf__LtK3"
      }
    },
    {
      "cell_type": "markdown",
      "source": [
        "Instalação pyspark"
      ],
      "metadata": {
        "id": "qS3KpfaQR9-P"
      }
    },
    {
      "cell_type": "code",
      "execution_count": 59,
      "metadata": {
        "colab": {
          "base_uri": "https://localhost:8080/"
        },
        "id": "oMl_LHcNLqJr",
        "outputId": "8a2cc125-6eec-4cf9-9608-4e7628700fcb"
      },
      "outputs": [
        {
          "output_type": "stream",
          "name": "stdout",
          "text": [
            "Requirement already satisfied: pyspark in /usr/local/lib/python3.10/dist-packages (3.4.1)\n",
            "Requirement already satisfied: py4j==0.10.9.7 in /usr/local/lib/python3.10/dist-packages (from pyspark) (0.10.9.7)\n"
          ]
        }
      ],
      "source": [
        "!pip install pyspark"
      ]
    },
    {
      "cell_type": "markdown",
      "source": [
        "Bibliotecas"
      ],
      "metadata": {
        "id": "vyuGCPEZSBoj"
      }
    },
    {
      "cell_type": "code",
      "source": [
        "from pyspark.sql import SparkSession\n",
        "from google.colab import files\n",
        "import matplotlib.pyplot as plt\n",
        "import numpy as np\n",
        "from pyspark.sql.functions import count\n",
        "import seaborn as sns\n",
        "from pyspark.sql.functions import col, lit, when, mean\n",
        "from pyspark.sql.types import StructType, StructField, StringType, IntegerType, DoubleType\n",
        "from pyspark.ml.feature import StringIndexer, VectorAssembler\n",
        "from pyspark.ml.regression import RandomForestRegressor\n",
        "from pyspark.sql import functions as F"
      ],
      "metadata": {
        "id": "mbEBPoULSPOb"
      },
      "execution_count": 60,
      "outputs": []
    },
    {
      "cell_type": "code",
      "source": [],
      "metadata": {
        "id": "0SSYJfpTE0Jw"
      },
      "execution_count": 60,
      "outputs": []
    },
    {
      "cell_type": "markdown",
      "source": [
        "## 🔋 Carregando Dados\n",
        "***"
      ],
      "metadata": {
        "id": "2d2nyxczSTQ5"
      }
    },
    {
      "cell_type": "markdown",
      "source": [
        "Upload do arquivo para o Colab"
      ],
      "metadata": {
        "id": "D7A0GbjcScUS"
      }
    },
    {
      "cell_type": "code",
      "source": [
        "uploaded = files.upload()"
      ],
      "metadata": {
        "id": "ehAH8FaCSPLW"
      },
      "execution_count": 61,
      "outputs": []
    },
    {
      "cell_type": "markdown",
      "source": [
        "Caminho para o arquivo"
      ],
      "metadata": {
        "id": "a_NsBu_DSq5G"
      }
    },
    {
      "cell_type": "code",
      "source": [
        "file = r'train.csv'"
      ],
      "metadata": {
        "id": "lpLmavhiSvBj"
      },
      "execution_count": 62,
      "outputs": []
    },
    {
      "cell_type": "markdown",
      "source": [
        "Spark\n",
        "\n",
        "Inicializando sessão spark"
      ],
      "metadata": {
        "id": "9Tqxmi3jSf4p"
      }
    },
    {
      "cell_type": "code",
      "source": [
        "spark = SparkSession.builder. \\\n",
        "        appName(\"House Price\"). \\\n",
        "        getOrCreate()"
      ],
      "metadata": {
        "id": "q1uO27fiSPIC"
      },
      "execution_count": 63,
      "outputs": []
    },
    {
      "cell_type": "markdown",
      "source": [
        "Definindo esquema manualmente"
      ],
      "metadata": {
        "id": "JCSLhsd4Sy7p"
      }
    },
    {
      "cell_type": "code",
      "source": [
        "schema = StructType([\n",
        "    #Nome da coluna, Tipo dos dados, Condição que permite valores nulos\n",
        "    StructField(\"Id\", IntegerType(), True),\n",
        "    StructField(\"MSSubClass\", IntegerType(), True),\n",
        "    StructField(\"MSZoning\", StringType(), True),\n",
        "    StructField(\"LotFrontage\", DoubleType(), True),\n",
        "    StructField(\"LotArea\", DoubleType(), True),\n",
        "    StructField(\"Street\", StringType(), True),\n",
        "    StructField(\"Alley\", StringType(), True),\n",
        "    StructField(\"LotShape\", StringType(), True),\n",
        "    StructField(\"LandContour\", StringType(), True),\n",
        "    StructField(\"Utilities\", StringType(), True),\n",
        "    StructField(\"LotConfig\", StringType(), True),\n",
        "    StructField(\"LandSlope\", StringType(), True),\n",
        "    StructField(\"Neighborhood\", StringType(), True),\n",
        "    StructField(\"Condition1\", StringType(), True),\n",
        "    StructField(\"Condition2\", StringType(), True),\n",
        "    StructField(\"BldgType\", StringType(), True),\n",
        "    StructField(\"HouseStyle\", StringType(), True),\n",
        "    StructField(\"OverallQual\", IntegerType(), True),\n",
        "    StructField(\"OverallCond\", IntegerType(), True),\n",
        "    StructField(\"YearBuilt\", IntegerType(), True),\n",
        "    StructField(\"YearRemodAdd\", IntegerType(), True),\n",
        "    StructField(\"RoofStyle\", StringType(), True),\n",
        "    StructField(\"RoofMatl\", StringType(), True),\n",
        "    StructField(\"Exterior1st\", StringType(), True),\n",
        "    StructField(\"Exterior2nd\", StringType(), True),\n",
        "    StructField(\"MasVnrType\", StringType(), True),\n",
        "    StructField(\"MasVnrArea\", DoubleType(), True),\n",
        "    StructField(\"ExterQual\", StringType(), True),\n",
        "    StructField(\"ExterCond\", StringType(), True),\n",
        "    StructField(\"Foundation\", StringType(), True),\n",
        "    StructField(\"BsmtQual\", StringType(), True),\n",
        "    StructField(\"BsmtCond\", StringType(), True),\n",
        "    StructField(\"BsmtExposure\", StringType(), True),\n",
        "    StructField(\"BsmtFinType1\", StringType(), True),\n",
        "    StructField(\"BsmtFinSF1\", DoubleType(), True),\n",
        "    StructField(\"BsmtFinType2\", StringType(), True),\n",
        "    StructField(\"BsmtFinSF2\", DoubleType(), True),\n",
        "    StructField(\"BsmtUnfSF\", DoubleType(), True),\n",
        "    StructField(\"TotalBsmtSF\", DoubleType(), True),\n",
        "    StructField(\"Heating\", StringType(), True),\n",
        "    StructField(\"HeatingQC\", StringType(), True),\n",
        "    StructField(\"CentralAir\", StringType(), True),\n",
        "    StructField(\"Electrical\", StringType(), True),\n",
        "    StructField(\"1stFlrSF\", DoubleType(), True),\n",
        "    StructField(\"2ndFlrSF\", DoubleType(), True),\n",
        "    StructField(\"LowQualFinSF\", DoubleType(), True),\n",
        "    StructField(\"GrLivArea\", DoubleType(), True),\n",
        "    StructField(\"BsmtFullBath\", IntegerType(), True),\n",
        "    StructField(\"BsmtHalfBath\", IntegerType(), True),\n",
        "    StructField(\"FullBath\", IntegerType(), True),\n",
        "    StructField(\"HalfBath\", IntegerType(), True),\n",
        "    StructField(\"BedroomAbvGr\", IntegerType(), True),\n",
        "    StructField(\"KitchenAbvGr\", IntegerType(), True),\n",
        "    StructField(\"KitchenQual\", StringType(), True),\n",
        "    StructField(\"TotRmsAbvGrd\", IntegerType(), True),\n",
        "    StructField(\"Functional\", StringType(), True),\n",
        "    StructField(\"Fireplaces\", IntegerType(), True),\n",
        "    StructField(\"FireplaceQu\", StringType(), True),\n",
        "    StructField(\"GarageType\", StringType(), True),\n",
        "    StructField(\"GarageYrBlt\", IntegerType(), True),\n",
        "    StructField(\"GarageFinish\", StringType(), True),\n",
        "    StructField(\"GarageCars\", IntegerType(), True),\n",
        "    StructField(\"GarageArea\", DoubleType(), True),\n",
        "    StructField(\"GarageQual\", StringType(), True),\n",
        "    StructField(\"GarageCond\", StringType(), True),\n",
        "    StructField(\"PavedDrive\", StringType(), True),\n",
        "    StructField(\"WoodDeckSF\", DoubleType(), True),\n",
        "    StructField(\"OpenPorchSF\", DoubleType(), True),\n",
        "    StructField(\"EnclosedPorch\", DoubleType(), True),\n",
        "    StructField(\"3SsnPorch\", DoubleType(), True),\n",
        "    StructField(\"ScreenPorch\", DoubleType(), True),\n",
        "    StructField(\"PoolArea\", DoubleType(), True),\n",
        "    StructField(\"PoolQC\", StringType(), True),\n",
        "    StructField(\"Fence\", StringType(), True),\n",
        "    StructField(\"MiscFeature\", StringType(), True),\n",
        "    StructField(\"MiscVal\", DoubleType(), True),\n",
        "    StructField(\"MoSold\", IntegerType(), True),\n",
        "    StructField(\"YrSold\", IntegerType(), True),\n",
        "    StructField(\"SaleType\", StringType(), True),\n",
        "    StructField(\"SaleCondition\", StringType(), True),\n",
        "    StructField(\"SalePrice\", DoubleType(), True)\n",
        "])"
      ],
      "metadata": {
        "id": "F3my2kjKSPF5"
      },
      "execution_count": 64,
      "outputs": []
    },
    {
      "cell_type": "markdown",
      "source": [
        "Carregamento do arquivo CSV"
      ],
      "metadata": {
        "id": "kltmYpyrTBYa"
      }
    },
    {
      "cell_type": "code",
      "source": [
        "df = spark.read.csv(file, header=True, schema=schema)"
      ],
      "metadata": {
        "id": "q6_OB-sLSPDQ"
      },
      "execution_count": 65,
      "outputs": []
    },
    {
      "cell_type": "markdown",
      "source": [
        "Visualização do dados"
      ],
      "metadata": {
        "id": "pvAMQWfLTCgy"
      }
    },
    {
      "cell_type": "code",
      "source": [
        "df.show(10)"
      ],
      "metadata": {
        "colab": {
          "base_uri": "https://localhost:8080/"
        },
        "id": "nUVbfZj4SPAY",
        "outputId": "5ca28519-0c98-4543-b0e7-5193bee14314"
      },
      "execution_count": 66,
      "outputs": [
        {
          "output_type": "stream",
          "name": "stdout",
          "text": [
            "+---+----------+--------+-----------+-------+------+-----+--------+-----------+---------+---------+---------+------------+----------+----------+--------+----------+-----------+-----------+---------+------------+---------+--------+-----------+-----------+----------+----------+---------+---------+----------+--------+--------+------------+------------+----------+------------+----------+---------+-----------+-------+---------+----------+----------+--------+--------+------------+---------+------------+------------+--------+--------+------------+------------+-----------+------------+----------+----------+-----------+----------+-----------+------------+----------+----------+----------+----------+----------+----------+-----------+-------------+---------+-----------+--------+------+-----+-----------+-------+------+------+--------+-------------+---------+\n",
            "| Id|MSSubClass|MSZoning|LotFrontage|LotArea|Street|Alley|LotShape|LandContour|Utilities|LotConfig|LandSlope|Neighborhood|Condition1|Condition2|BldgType|HouseStyle|OverallQual|OverallCond|YearBuilt|YearRemodAdd|RoofStyle|RoofMatl|Exterior1st|Exterior2nd|MasVnrType|MasVnrArea|ExterQual|ExterCond|Foundation|BsmtQual|BsmtCond|BsmtExposure|BsmtFinType1|BsmtFinSF1|BsmtFinType2|BsmtFinSF2|BsmtUnfSF|TotalBsmtSF|Heating|HeatingQC|CentralAir|Electrical|1stFlrSF|2ndFlrSF|LowQualFinSF|GrLivArea|BsmtFullBath|BsmtHalfBath|FullBath|HalfBath|BedroomAbvGr|KitchenAbvGr|KitchenQual|TotRmsAbvGrd|Functional|Fireplaces|FireplaceQu|GarageType|GarageYrBlt|GarageFinish|GarageCars|GarageArea|GarageQual|GarageCond|PavedDrive|WoodDeckSF|OpenPorchSF|EnclosedPorch|3SsnPorch|ScreenPorch|PoolArea|PoolQC|Fence|MiscFeature|MiscVal|MoSold|YrSold|SaleType|SaleCondition|SalePrice|\n",
            "+---+----------+--------+-----------+-------+------+-----+--------+-----------+---------+---------+---------+------------+----------+----------+--------+----------+-----------+-----------+---------+------------+---------+--------+-----------+-----------+----------+----------+---------+---------+----------+--------+--------+------------+------------+----------+------------+----------+---------+-----------+-------+---------+----------+----------+--------+--------+------------+---------+------------+------------+--------+--------+------------+------------+-----------+------------+----------+----------+-----------+----------+-----------+------------+----------+----------+----------+----------+----------+----------+-----------+-------------+---------+-----------+--------+------+-----+-----------+-------+------+------+--------+-------------+---------+\n",
            "|  1|        60|      RL|       65.0| 8450.0|  Pave|   NA|     Reg|        Lvl|   AllPub|   Inside|      Gtl|     CollgCr|      Norm|      Norm|    1Fam|    2Story|          7|          5|     2003|        2003|    Gable| CompShg|    VinylSd|    VinylSd|   BrkFace|     196.0|       Gd|       TA|     PConc|      Gd|      TA|          No|         GLQ|     706.0|         Unf|       0.0|    150.0|      856.0|   GasA|       Ex|         Y|     SBrkr|   856.0|   854.0|         0.0|   1710.0|           1|           0|       2|       1|           3|           1|         Gd|           8|       Typ|         0|         NA|    Attchd|       2003|         RFn|         2|     548.0|        TA|        TA|         Y|       0.0|       61.0|          0.0|      0.0|        0.0|     0.0|    NA|   NA|         NA|    0.0|     2|  2008|      WD|       Normal| 208500.0|\n",
            "|  2|        20|      RL|       80.0| 9600.0|  Pave|   NA|     Reg|        Lvl|   AllPub|      FR2|      Gtl|     Veenker|     Feedr|      Norm|    1Fam|    1Story|          6|          8|     1976|        1976|    Gable| CompShg|    MetalSd|    MetalSd|      None|       0.0|       TA|       TA|    CBlock|      Gd|      TA|          Gd|         ALQ|     978.0|         Unf|       0.0|    284.0|     1262.0|   GasA|       Ex|         Y|     SBrkr|  1262.0|     0.0|         0.0|   1262.0|           0|           1|       2|       0|           3|           1|         TA|           6|       Typ|         1|         TA|    Attchd|       1976|         RFn|         2|     460.0|        TA|        TA|         Y|     298.0|        0.0|          0.0|      0.0|        0.0|     0.0|    NA|   NA|         NA|    0.0|     5|  2007|      WD|       Normal| 181500.0|\n",
            "|  3|        60|      RL|       68.0|11250.0|  Pave|   NA|     IR1|        Lvl|   AllPub|   Inside|      Gtl|     CollgCr|      Norm|      Norm|    1Fam|    2Story|          7|          5|     2001|        2002|    Gable| CompShg|    VinylSd|    VinylSd|   BrkFace|     162.0|       Gd|       TA|     PConc|      Gd|      TA|          Mn|         GLQ|     486.0|         Unf|       0.0|    434.0|      920.0|   GasA|       Ex|         Y|     SBrkr|   920.0|   866.0|         0.0|   1786.0|           1|           0|       2|       1|           3|           1|         Gd|           6|       Typ|         1|         TA|    Attchd|       2001|         RFn|         2|     608.0|        TA|        TA|         Y|       0.0|       42.0|          0.0|      0.0|        0.0|     0.0|    NA|   NA|         NA|    0.0|     9|  2008|      WD|       Normal| 223500.0|\n",
            "|  4|        70|      RL|       60.0| 9550.0|  Pave|   NA|     IR1|        Lvl|   AllPub|   Corner|      Gtl|     Crawfor|      Norm|      Norm|    1Fam|    2Story|          7|          5|     1915|        1970|    Gable| CompShg|    Wd Sdng|    Wd Shng|      None|       0.0|       TA|       TA|    BrkTil|      TA|      Gd|          No|         ALQ|     216.0|         Unf|       0.0|    540.0|      756.0|   GasA|       Gd|         Y|     SBrkr|   961.0|   756.0|         0.0|   1717.0|           1|           0|       1|       0|           3|           1|         Gd|           7|       Typ|         1|         Gd|    Detchd|       1998|         Unf|         3|     642.0|        TA|        TA|         Y|       0.0|       35.0|        272.0|      0.0|        0.0|     0.0|    NA|   NA|         NA|    0.0|     2|  2006|      WD|      Abnorml| 140000.0|\n",
            "|  5|        60|      RL|       84.0|14260.0|  Pave|   NA|     IR1|        Lvl|   AllPub|      FR2|      Gtl|     NoRidge|      Norm|      Norm|    1Fam|    2Story|          8|          5|     2000|        2000|    Gable| CompShg|    VinylSd|    VinylSd|   BrkFace|     350.0|       Gd|       TA|     PConc|      Gd|      TA|          Av|         GLQ|     655.0|         Unf|       0.0|    490.0|     1145.0|   GasA|       Ex|         Y|     SBrkr|  1145.0|  1053.0|         0.0|   2198.0|           1|           0|       2|       1|           4|           1|         Gd|           9|       Typ|         1|         TA|    Attchd|       2000|         RFn|         3|     836.0|        TA|        TA|         Y|     192.0|       84.0|          0.0|      0.0|        0.0|     0.0|    NA|   NA|         NA|    0.0|    12|  2008|      WD|       Normal| 250000.0|\n",
            "|  6|        50|      RL|       85.0|14115.0|  Pave|   NA|     IR1|        Lvl|   AllPub|   Inside|      Gtl|     Mitchel|      Norm|      Norm|    1Fam|    1.5Fin|          5|          5|     1993|        1995|    Gable| CompShg|    VinylSd|    VinylSd|      None|       0.0|       TA|       TA|      Wood|      Gd|      TA|          No|         GLQ|     732.0|         Unf|       0.0|     64.0|      796.0|   GasA|       Ex|         Y|     SBrkr|   796.0|   566.0|         0.0|   1362.0|           1|           0|       1|       1|           1|           1|         TA|           5|       Typ|         0|         NA|    Attchd|       1993|         Unf|         2|     480.0|        TA|        TA|         Y|      40.0|       30.0|          0.0|    320.0|        0.0|     0.0|    NA|MnPrv|       Shed|  700.0|    10|  2009|      WD|       Normal| 143000.0|\n",
            "|  7|        20|      RL|       75.0|10084.0|  Pave|   NA|     Reg|        Lvl|   AllPub|   Inside|      Gtl|     Somerst|      Norm|      Norm|    1Fam|    1Story|          8|          5|     2004|        2005|    Gable| CompShg|    VinylSd|    VinylSd|     Stone|     186.0|       Gd|       TA|     PConc|      Ex|      TA|          Av|         GLQ|    1369.0|         Unf|       0.0|    317.0|     1686.0|   GasA|       Ex|         Y|     SBrkr|  1694.0|     0.0|         0.0|   1694.0|           1|           0|       2|       0|           3|           1|         Gd|           7|       Typ|         1|         Gd|    Attchd|       2004|         RFn|         2|     636.0|        TA|        TA|         Y|     255.0|       57.0|          0.0|      0.0|        0.0|     0.0|    NA|   NA|         NA|    0.0|     8|  2007|      WD|       Normal| 307000.0|\n",
            "|  8|        60|      RL|       null|10382.0|  Pave|   NA|     IR1|        Lvl|   AllPub|   Corner|      Gtl|      NWAmes|      PosN|      Norm|    1Fam|    2Story|          7|          6|     1973|        1973|    Gable| CompShg|    HdBoard|    HdBoard|     Stone|     240.0|       TA|       TA|    CBlock|      Gd|      TA|          Mn|         ALQ|     859.0|         BLQ|      32.0|    216.0|     1107.0|   GasA|       Ex|         Y|     SBrkr|  1107.0|   983.0|         0.0|   2090.0|           1|           0|       2|       1|           3|           1|         TA|           7|       Typ|         2|         TA|    Attchd|       1973|         RFn|         2|     484.0|        TA|        TA|         Y|     235.0|      204.0|        228.0|      0.0|        0.0|     0.0|    NA|   NA|       Shed|  350.0|    11|  2009|      WD|       Normal| 200000.0|\n",
            "|  9|        50|      RM|       51.0| 6120.0|  Pave|   NA|     Reg|        Lvl|   AllPub|   Inside|      Gtl|     OldTown|    Artery|      Norm|    1Fam|    1.5Fin|          7|          5|     1931|        1950|    Gable| CompShg|    BrkFace|    Wd Shng|      None|       0.0|       TA|       TA|    BrkTil|      TA|      TA|          No|         Unf|       0.0|         Unf|       0.0|    952.0|      952.0|   GasA|       Gd|         Y|     FuseF|  1022.0|   752.0|         0.0|   1774.0|           0|           0|       2|       0|           2|           2|         TA|           8|      Min1|         2|         TA|    Detchd|       1931|         Unf|         2|     468.0|        Fa|        TA|         Y|      90.0|        0.0|        205.0|      0.0|        0.0|     0.0|    NA|   NA|         NA|    0.0|     4|  2008|      WD|      Abnorml| 129900.0|\n",
            "| 10|       190|      RL|       50.0| 7420.0|  Pave|   NA|     Reg|        Lvl|   AllPub|   Corner|      Gtl|     BrkSide|    Artery|    Artery|  2fmCon|    1.5Unf|          5|          6|     1939|        1950|    Gable| CompShg|    MetalSd|    MetalSd|      None|       0.0|       TA|       TA|    BrkTil|      TA|      TA|          No|         GLQ|     851.0|         Unf|       0.0|    140.0|      991.0|   GasA|       Ex|         Y|     SBrkr|  1077.0|     0.0|         0.0|   1077.0|           1|           0|       1|       0|           2|           2|         TA|           5|       Typ|         2|         TA|    Attchd|       1939|         RFn|         1|     205.0|        Gd|        TA|         Y|       0.0|        4.0|          0.0|      0.0|        0.0|     0.0|    NA|   NA|         NA|    0.0|     1|  2008|      WD|       Normal| 118000.0|\n",
            "+---+----------+--------+-----------+-------+------+-----+--------+-----------+---------+---------+---------+------------+----------+----------+--------+----------+-----------+-----------+---------+------------+---------+--------+-----------+-----------+----------+----------+---------+---------+----------+--------+--------+------------+------------+----------+------------+----------+---------+-----------+-------+---------+----------+----------+--------+--------+------------+---------+------------+------------+--------+--------+------------+------------+-----------+------------+----------+----------+-----------+----------+-----------+------------+----------+----------+----------+----------+----------+----------+-----------+-------------+---------+-----------+--------+------+-----+-----------+-------+------+------+--------+-------------+---------+\n",
            "only showing top 10 rows\n",
            "\n"
          ]
        }
      ]
    },
    {
      "cell_type": "markdown",
      "source": [
        "Numero de linhas e colunas"
      ],
      "metadata": {
        "id": "vXYiNvlITD0P"
      }
    },
    {
      "cell_type": "code",
      "source": [
        "num_colunas = len(df.columns)\n",
        "num_linhas = df.count()\n",
        "print(f\"Colunas: {num_colunas}\")\n",
        "print(f\"Linhas: {num_linhas}\")"
      ],
      "metadata": {
        "colab": {
          "base_uri": "https://localhost:8080/"
        },
        "id": "3vFrfK67SO7x",
        "outputId": "df91814c-1851-4966-cba2-84f1c5c5471e"
      },
      "execution_count": 67,
      "outputs": [
        {
          "output_type": "stream",
          "name": "stdout",
          "text": [
            "Colunas: 81\n",
            "Linhas: 1460\n"
          ]
        }
      ]
    },
    {
      "cell_type": "markdown",
      "source": [
        "Descrição das colunas"
      ],
      "metadata": {
        "id": "yLSeKGZ_TVK7"
      }
    },
    {
      "cell_type": "code",
      "source": [
        "df.printSchema()"
      ],
      "metadata": {
        "colab": {
          "base_uri": "https://localhost:8080/"
        },
        "id": "hHVrqmQvSO46",
        "outputId": "8c2828d2-a0f1-4084-bd52-959b4288ff77"
      },
      "execution_count": 68,
      "outputs": [
        {
          "output_type": "stream",
          "name": "stdout",
          "text": [
            "root\n",
            " |-- Id: integer (nullable = true)\n",
            " |-- MSSubClass: integer (nullable = true)\n",
            " |-- MSZoning: string (nullable = true)\n",
            " |-- LotFrontage: double (nullable = true)\n",
            " |-- LotArea: double (nullable = true)\n",
            " |-- Street: string (nullable = true)\n",
            " |-- Alley: string (nullable = true)\n",
            " |-- LotShape: string (nullable = true)\n",
            " |-- LandContour: string (nullable = true)\n",
            " |-- Utilities: string (nullable = true)\n",
            " |-- LotConfig: string (nullable = true)\n",
            " |-- LandSlope: string (nullable = true)\n",
            " |-- Neighborhood: string (nullable = true)\n",
            " |-- Condition1: string (nullable = true)\n",
            " |-- Condition2: string (nullable = true)\n",
            " |-- BldgType: string (nullable = true)\n",
            " |-- HouseStyle: string (nullable = true)\n",
            " |-- OverallQual: integer (nullable = true)\n",
            " |-- OverallCond: integer (nullable = true)\n",
            " |-- YearBuilt: integer (nullable = true)\n",
            " |-- YearRemodAdd: integer (nullable = true)\n",
            " |-- RoofStyle: string (nullable = true)\n",
            " |-- RoofMatl: string (nullable = true)\n",
            " |-- Exterior1st: string (nullable = true)\n",
            " |-- Exterior2nd: string (nullable = true)\n",
            " |-- MasVnrType: string (nullable = true)\n",
            " |-- MasVnrArea: double (nullable = true)\n",
            " |-- ExterQual: string (nullable = true)\n",
            " |-- ExterCond: string (nullable = true)\n",
            " |-- Foundation: string (nullable = true)\n",
            " |-- BsmtQual: string (nullable = true)\n",
            " |-- BsmtCond: string (nullable = true)\n",
            " |-- BsmtExposure: string (nullable = true)\n",
            " |-- BsmtFinType1: string (nullable = true)\n",
            " |-- BsmtFinSF1: double (nullable = true)\n",
            " |-- BsmtFinType2: string (nullable = true)\n",
            " |-- BsmtFinSF2: double (nullable = true)\n",
            " |-- BsmtUnfSF: double (nullable = true)\n",
            " |-- TotalBsmtSF: double (nullable = true)\n",
            " |-- Heating: string (nullable = true)\n",
            " |-- HeatingQC: string (nullable = true)\n",
            " |-- CentralAir: string (nullable = true)\n",
            " |-- Electrical: string (nullable = true)\n",
            " |-- 1stFlrSF: double (nullable = true)\n",
            " |-- 2ndFlrSF: double (nullable = true)\n",
            " |-- LowQualFinSF: double (nullable = true)\n",
            " |-- GrLivArea: double (nullable = true)\n",
            " |-- BsmtFullBath: integer (nullable = true)\n",
            " |-- BsmtHalfBath: integer (nullable = true)\n",
            " |-- FullBath: integer (nullable = true)\n",
            " |-- HalfBath: integer (nullable = true)\n",
            " |-- BedroomAbvGr: integer (nullable = true)\n",
            " |-- KitchenAbvGr: integer (nullable = true)\n",
            " |-- KitchenQual: string (nullable = true)\n",
            " |-- TotRmsAbvGrd: integer (nullable = true)\n",
            " |-- Functional: string (nullable = true)\n",
            " |-- Fireplaces: integer (nullable = true)\n",
            " |-- FireplaceQu: string (nullable = true)\n",
            " |-- GarageType: string (nullable = true)\n",
            " |-- GarageYrBlt: integer (nullable = true)\n",
            " |-- GarageFinish: string (nullable = true)\n",
            " |-- GarageCars: integer (nullable = true)\n",
            " |-- GarageArea: double (nullable = true)\n",
            " |-- GarageQual: string (nullable = true)\n",
            " |-- GarageCond: string (nullable = true)\n",
            " |-- PavedDrive: string (nullable = true)\n",
            " |-- WoodDeckSF: double (nullable = true)\n",
            " |-- OpenPorchSF: double (nullable = true)\n",
            " |-- EnclosedPorch: double (nullable = true)\n",
            " |-- 3SsnPorch: double (nullable = true)\n",
            " |-- ScreenPorch: double (nullable = true)\n",
            " |-- PoolArea: double (nullable = true)\n",
            " |-- PoolQC: string (nullable = true)\n",
            " |-- Fence: string (nullable = true)\n",
            " |-- MiscFeature: string (nullable = true)\n",
            " |-- MiscVal: double (nullable = true)\n",
            " |-- MoSold: integer (nullable = true)\n",
            " |-- YrSold: integer (nullable = true)\n",
            " |-- SaleType: string (nullable = true)\n",
            " |-- SaleCondition: string (nullable = true)\n",
            " |-- SalePrice: double (nullable = true)\n",
            "\n"
          ]
        }
      ]
    },
    {
      "cell_type": "markdown",
      "source": [
        "Dados nulos"
      ],
      "metadata": {
        "id": "SF1PM3iBTeig"
      }
    },
    {
      "cell_type": "code",
      "source": [
        "# Para cada coluna no Dataframe\n",
        "for colunas in df.columns:\n",
        "  # Imprime o nome da coluna e o número de linhas com valores nulos\n",
        "  print(f' {colunas}:  {df.filter(col(colunas).isNull()).count()}')"
      ],
      "metadata": {
        "colab": {
          "base_uri": "https://localhost:8080/"
        },
        "id": "8kV2Nf9uSOw9",
        "outputId": "1cc6e40e-0e49-4a2a-f332-caf65baff28b"
      },
      "execution_count": 69,
      "outputs": [
        {
          "output_type": "stream",
          "name": "stdout",
          "text": [
            " Id:  0\n",
            " MSSubClass:  0\n",
            " MSZoning:  0\n",
            " LotFrontage:  259\n",
            " LotArea:  0\n",
            " Street:  0\n",
            " Alley:  0\n",
            " LotShape:  0\n",
            " LandContour:  0\n",
            " Utilities:  0\n",
            " LotConfig:  0\n",
            " LandSlope:  0\n",
            " Neighborhood:  0\n",
            " Condition1:  0\n",
            " Condition2:  0\n",
            " BldgType:  0\n",
            " HouseStyle:  0\n",
            " OverallQual:  0\n",
            " OverallCond:  0\n",
            " YearBuilt:  0\n",
            " YearRemodAdd:  0\n",
            " RoofStyle:  0\n",
            " RoofMatl:  0\n",
            " Exterior1st:  0\n",
            " Exterior2nd:  0\n",
            " MasVnrType:  0\n",
            " MasVnrArea:  8\n",
            " ExterQual:  0\n",
            " ExterCond:  0\n",
            " Foundation:  0\n",
            " BsmtQual:  0\n",
            " BsmtCond:  0\n",
            " BsmtExposure:  0\n",
            " BsmtFinType1:  0\n",
            " BsmtFinSF1:  0\n",
            " BsmtFinType2:  0\n",
            " BsmtFinSF2:  0\n",
            " BsmtUnfSF:  0\n",
            " TotalBsmtSF:  0\n",
            " Heating:  0\n",
            " HeatingQC:  0\n",
            " CentralAir:  0\n",
            " Electrical:  0\n",
            " 1stFlrSF:  0\n",
            " 2ndFlrSF:  0\n",
            " LowQualFinSF:  0\n",
            " GrLivArea:  0\n",
            " BsmtFullBath:  0\n",
            " BsmtHalfBath:  0\n",
            " FullBath:  0\n",
            " HalfBath:  0\n",
            " BedroomAbvGr:  0\n",
            " KitchenAbvGr:  0\n",
            " KitchenQual:  0\n",
            " TotRmsAbvGrd:  0\n",
            " Functional:  0\n",
            " Fireplaces:  0\n",
            " FireplaceQu:  0\n",
            " GarageType:  0\n",
            " GarageYrBlt:  81\n",
            " GarageFinish:  0\n",
            " GarageCars:  0\n",
            " GarageArea:  0\n",
            " GarageQual:  0\n",
            " GarageCond:  0\n",
            " PavedDrive:  0\n",
            " WoodDeckSF:  0\n",
            " OpenPorchSF:  0\n",
            " EnclosedPorch:  0\n",
            " 3SsnPorch:  0\n",
            " ScreenPorch:  0\n",
            " PoolArea:  0\n",
            " PoolQC:  0\n",
            " Fence:  0\n",
            " MiscFeature:  0\n",
            " MiscVal:  0\n",
            " MoSold:  0\n",
            " YrSold:  0\n",
            " SaleType:  0\n",
            " SaleCondition:  0\n",
            " SalePrice:  0\n"
          ]
        }
      ]
    },
    {
      "cell_type": "markdown",
      "source": [
        "## 🔎 Breve exploração do dados\n",
        "***"
      ],
      "metadata": {
        "id": "1J-PS1bVUW73"
      }
    },
    {
      "cell_type": "markdown",
      "source": [
        "Distribuição dos dados númericos no dataframe\n",
        "\n",
        "Criando um dataframe novo, somente com colunas de dados númericos"
      ],
      "metadata": {
        "id": "EQv9HamGUms9"
      }
    },
    {
      "cell_type": "code",
      "source": [
        "# Acessar os metadados do Dataframe\n",
        "meta = df.schema.fields\n",
        "print(\"Metadata: \", meta)\n",
        "\n",
        "# Cria uma lista somente com as colunas de tipo IntegerType e DoubleType - Dados númericos\n",
        "columnList = [field.name for field in meta\n",
        "                            if isinstance(field.dataType, IntegerType) or isinstance(field.dataType, DoubleType)]\n",
        "print(\"Result: \", columnList)\n",
        "\n",
        "# Cria um novo Dataframe somente de colunas númericas, baseado na lista anterior\n",
        "df_num = df[[columnList]]\n",
        "df_num.show(5)\n",
        "\n",
        "# Número de colunas\n",
        "print(f\"Colunas: {len(df_num.columns)}\")\n",
        "\n",
        "# Número de Linhas\n",
        "print(f\"Linahs: {df_num.count()}\")"
      ],
      "metadata": {
        "colab": {
          "base_uri": "https://localhost:8080/"
        },
        "id": "hCFRpI8-SOun",
        "outputId": "fcccbff0-8c81-49e2-dd3b-ff8dffb85712"
      },
      "execution_count": 70,
      "outputs": [
        {
          "output_type": "stream",
          "name": "stdout",
          "text": [
            "Metadata:  [StructField('Id', IntegerType(), True), StructField('MSSubClass', IntegerType(), True), StructField('MSZoning', StringType(), True), StructField('LotFrontage', DoubleType(), True), StructField('LotArea', DoubleType(), True), StructField('Street', StringType(), True), StructField('Alley', StringType(), True), StructField('LotShape', StringType(), True), StructField('LandContour', StringType(), True), StructField('Utilities', StringType(), True), StructField('LotConfig', StringType(), True), StructField('LandSlope', StringType(), True), StructField('Neighborhood', StringType(), True), StructField('Condition1', StringType(), True), StructField('Condition2', StringType(), True), StructField('BldgType', StringType(), True), StructField('HouseStyle', StringType(), True), StructField('OverallQual', IntegerType(), True), StructField('OverallCond', IntegerType(), True), StructField('YearBuilt', IntegerType(), True), StructField('YearRemodAdd', IntegerType(), True), StructField('RoofStyle', StringType(), True), StructField('RoofMatl', StringType(), True), StructField('Exterior1st', StringType(), True), StructField('Exterior2nd', StringType(), True), StructField('MasVnrType', StringType(), True), StructField('MasVnrArea', DoubleType(), True), StructField('ExterQual', StringType(), True), StructField('ExterCond', StringType(), True), StructField('Foundation', StringType(), True), StructField('BsmtQual', StringType(), True), StructField('BsmtCond', StringType(), True), StructField('BsmtExposure', StringType(), True), StructField('BsmtFinType1', StringType(), True), StructField('BsmtFinSF1', DoubleType(), True), StructField('BsmtFinType2', StringType(), True), StructField('BsmtFinSF2', DoubleType(), True), StructField('BsmtUnfSF', DoubleType(), True), StructField('TotalBsmtSF', DoubleType(), True), StructField('Heating', StringType(), True), StructField('HeatingQC', StringType(), True), StructField('CentralAir', StringType(), True), StructField('Electrical', StringType(), True), StructField('1stFlrSF', DoubleType(), True), StructField('2ndFlrSF', DoubleType(), True), StructField('LowQualFinSF', DoubleType(), True), StructField('GrLivArea', DoubleType(), True), StructField('BsmtFullBath', IntegerType(), True), StructField('BsmtHalfBath', IntegerType(), True), StructField('FullBath', IntegerType(), True), StructField('HalfBath', IntegerType(), True), StructField('BedroomAbvGr', IntegerType(), True), StructField('KitchenAbvGr', IntegerType(), True), StructField('KitchenQual', StringType(), True), StructField('TotRmsAbvGrd', IntegerType(), True), StructField('Functional', StringType(), True), StructField('Fireplaces', IntegerType(), True), StructField('FireplaceQu', StringType(), True), StructField('GarageType', StringType(), True), StructField('GarageYrBlt', IntegerType(), True), StructField('GarageFinish', StringType(), True), StructField('GarageCars', IntegerType(), True), StructField('GarageArea', DoubleType(), True), StructField('GarageQual', StringType(), True), StructField('GarageCond', StringType(), True), StructField('PavedDrive', StringType(), True), StructField('WoodDeckSF', DoubleType(), True), StructField('OpenPorchSF', DoubleType(), True), StructField('EnclosedPorch', DoubleType(), True), StructField('3SsnPorch', DoubleType(), True), StructField('ScreenPorch', DoubleType(), True), StructField('PoolArea', DoubleType(), True), StructField('PoolQC', StringType(), True), StructField('Fence', StringType(), True), StructField('MiscFeature', StringType(), True), StructField('MiscVal', DoubleType(), True), StructField('MoSold', IntegerType(), True), StructField('YrSold', IntegerType(), True), StructField('SaleType', StringType(), True), StructField('SaleCondition', StringType(), True), StructField('SalePrice', DoubleType(), True)]\n",
            "Result:  ['Id', 'MSSubClass', 'LotFrontage', 'LotArea', 'OverallQual', 'OverallCond', 'YearBuilt', 'YearRemodAdd', 'MasVnrArea', 'BsmtFinSF1', 'BsmtFinSF2', 'BsmtUnfSF', 'TotalBsmtSF', '1stFlrSF', '2ndFlrSF', 'LowQualFinSF', 'GrLivArea', 'BsmtFullBath', 'BsmtHalfBath', 'FullBath', 'HalfBath', 'BedroomAbvGr', 'KitchenAbvGr', 'TotRmsAbvGrd', 'Fireplaces', 'GarageYrBlt', 'GarageCars', 'GarageArea', 'WoodDeckSF', 'OpenPorchSF', 'EnclosedPorch', '3SsnPorch', 'ScreenPorch', 'PoolArea', 'MiscVal', 'MoSold', 'YrSold', 'SalePrice']\n",
            "+---+----------+-----------+-------+-----------+-----------+---------+------------+----------+----------+----------+---------+-----------+--------+--------+------------+---------+------------+------------+--------+--------+------------+------------+------------+----------+-----------+----------+----------+----------+-----------+-------------+---------+-----------+--------+-------+------+------+---------+\n",
            "| Id|MSSubClass|LotFrontage|LotArea|OverallQual|OverallCond|YearBuilt|YearRemodAdd|MasVnrArea|BsmtFinSF1|BsmtFinSF2|BsmtUnfSF|TotalBsmtSF|1stFlrSF|2ndFlrSF|LowQualFinSF|GrLivArea|BsmtFullBath|BsmtHalfBath|FullBath|HalfBath|BedroomAbvGr|KitchenAbvGr|TotRmsAbvGrd|Fireplaces|GarageYrBlt|GarageCars|GarageArea|WoodDeckSF|OpenPorchSF|EnclosedPorch|3SsnPorch|ScreenPorch|PoolArea|MiscVal|MoSold|YrSold|SalePrice|\n",
            "+---+----------+-----------+-------+-----------+-----------+---------+------------+----------+----------+----------+---------+-----------+--------+--------+------------+---------+------------+------------+--------+--------+------------+------------+------------+----------+-----------+----------+----------+----------+-----------+-------------+---------+-----------+--------+-------+------+------+---------+\n",
            "|  1|        60|       65.0| 8450.0|          7|          5|     2003|        2003|     196.0|     706.0|       0.0|    150.0|      856.0|   856.0|   854.0|         0.0|   1710.0|           1|           0|       2|       1|           3|           1|           8|         0|       2003|         2|     548.0|       0.0|       61.0|          0.0|      0.0|        0.0|     0.0|    0.0|     2|  2008| 208500.0|\n",
            "|  2|        20|       80.0| 9600.0|          6|          8|     1976|        1976|       0.0|     978.0|       0.0|    284.0|     1262.0|  1262.0|     0.0|         0.0|   1262.0|           0|           1|       2|       0|           3|           1|           6|         1|       1976|         2|     460.0|     298.0|        0.0|          0.0|      0.0|        0.0|     0.0|    0.0|     5|  2007| 181500.0|\n",
            "|  3|        60|       68.0|11250.0|          7|          5|     2001|        2002|     162.0|     486.0|       0.0|    434.0|      920.0|   920.0|   866.0|         0.0|   1786.0|           1|           0|       2|       1|           3|           1|           6|         1|       2001|         2|     608.0|       0.0|       42.0|          0.0|      0.0|        0.0|     0.0|    0.0|     9|  2008| 223500.0|\n",
            "|  4|        70|       60.0| 9550.0|          7|          5|     1915|        1970|       0.0|     216.0|       0.0|    540.0|      756.0|   961.0|   756.0|         0.0|   1717.0|           1|           0|       1|       0|           3|           1|           7|         1|       1998|         3|     642.0|       0.0|       35.0|        272.0|      0.0|        0.0|     0.0|    0.0|     2|  2006| 140000.0|\n",
            "|  5|        60|       84.0|14260.0|          8|          5|     2000|        2000|     350.0|     655.0|       0.0|    490.0|     1145.0|  1145.0|  1053.0|         0.0|   2198.0|           1|           0|       2|       1|           4|           1|           9|         1|       2000|         3|     836.0|     192.0|       84.0|          0.0|      0.0|        0.0|     0.0|    0.0|    12|  2008| 250000.0|\n",
            "+---+----------+-----------+-------+-----------+-----------+---------+------------+----------+----------+----------+---------+-----------+--------+--------+------------+---------+------------+------------+--------+--------+------------+------------+------------+----------+-----------+----------+----------+----------+-----------+-------------+---------+-----------+--------+-------+------+------+---------+\n",
            "only showing top 5 rows\n",
            "\n",
            "Colunas: 38\n",
            "Linahs: 1460\n"
          ]
        }
      ]
    },
    {
      "cell_type": "markdown",
      "source": [
        "Gráfico"
      ],
      "metadata": {
        "id": "LilnxFmuUrhP"
      }
    },
    {
      "cell_type": "code",
      "source": [
        "df_num.toPandas().hist(figsize = (16, 10), bins = 60, xlabelsize = 6, ylabelsize = 6)"
      ],
      "metadata": {
        "colab": {
          "base_uri": "https://localhost:8080/",
          "height": 0
        },
        "id": "wAMbGDniSOra",
        "outputId": "eb9879e9-39b0-48d6-9dad-063583bbea47"
      },
      "execution_count": 71,
      "outputs": [
        {
          "output_type": "execute_result",
          "data": {
            "text/plain": [
              "array([[<Axes: title={'center': 'Id'}>,\n",
              "        <Axes: title={'center': 'MSSubClass'}>,\n",
              "        <Axes: title={'center': 'LotFrontage'}>,\n",
              "        <Axes: title={'center': 'LotArea'}>,\n",
              "        <Axes: title={'center': 'OverallQual'}>,\n",
              "        <Axes: title={'center': 'OverallCond'}>],\n",
              "       [<Axes: title={'center': 'YearBuilt'}>,\n",
              "        <Axes: title={'center': 'YearRemodAdd'}>,\n",
              "        <Axes: title={'center': 'MasVnrArea'}>,\n",
              "        <Axes: title={'center': 'BsmtFinSF1'}>,\n",
              "        <Axes: title={'center': 'BsmtFinSF2'}>,\n",
              "        <Axes: title={'center': 'BsmtUnfSF'}>],\n",
              "       [<Axes: title={'center': 'TotalBsmtSF'}>,\n",
              "        <Axes: title={'center': '1stFlrSF'}>,\n",
              "        <Axes: title={'center': '2ndFlrSF'}>,\n",
              "        <Axes: title={'center': 'LowQualFinSF'}>,\n",
              "        <Axes: title={'center': 'GrLivArea'}>,\n",
              "        <Axes: title={'center': 'BsmtFullBath'}>],\n",
              "       [<Axes: title={'center': 'BsmtHalfBath'}>,\n",
              "        <Axes: title={'center': 'FullBath'}>,\n",
              "        <Axes: title={'center': 'HalfBath'}>,\n",
              "        <Axes: title={'center': 'BedroomAbvGr'}>,\n",
              "        <Axes: title={'center': 'KitchenAbvGr'}>,\n",
              "        <Axes: title={'center': 'TotRmsAbvGrd'}>],\n",
              "       [<Axes: title={'center': 'Fireplaces'}>,\n",
              "        <Axes: title={'center': 'GarageYrBlt'}>,\n",
              "        <Axes: title={'center': 'GarageCars'}>,\n",
              "        <Axes: title={'center': 'GarageArea'}>,\n",
              "        <Axes: title={'center': 'WoodDeckSF'}>,\n",
              "        <Axes: title={'center': 'OpenPorchSF'}>],\n",
              "       [<Axes: title={'center': 'EnclosedPorch'}>,\n",
              "        <Axes: title={'center': '3SsnPorch'}>,\n",
              "        <Axes: title={'center': 'ScreenPorch'}>,\n",
              "        <Axes: title={'center': 'PoolArea'}>,\n",
              "        <Axes: title={'center': 'MiscVal'}>,\n",
              "        <Axes: title={'center': 'MoSold'}>],\n",
              "       [<Axes: title={'center': 'YrSold'}>,\n",
              "        <Axes: title={'center': 'SalePrice'}>, <Axes: >, <Axes: >,\n",
              "        <Axes: >, <Axes: >]], dtype=object)"
            ]
          },
          "metadata": {},
          "execution_count": 71
        },
        {
          "output_type": "display_data",
          "data": {
            "text/plain": [
              "<Figure size 1600x1000 with 42 Axes>"
            ],
            "image/png": "[encoded data removed]"
          },
          "metadata": {}
        }
      ]
    },
    {
      "cell_type": "markdown",
      "source": [
        "Descrição da coluna SalePrice"
      ],
      "metadata": {
        "id": "9exXJKaUUuYZ"
      }
    },
    {
      "cell_type": "code",
      "source": [
        "price_summary = df.select(\"SalePrice\").describe().show()"
      ],
      "metadata": {
        "colab": {
          "base_uri": "https://localhost:8080/"
        },
        "id": "GP-2gqaeSOoD",
        "outputId": "67cc9486-a2ad-4ceb-a0ea-2d93ca7dce89"
      },
      "execution_count": 72,
      "outputs": [
        {
          "output_type": "stream",
          "name": "stdout",
          "text": [
            "+-------+------------------+\n",
            "|summary|         SalePrice|\n",
            "+-------+------------------+\n",
            "|  count|              1460|\n",
            "|   mean|180921.19589041095|\n",
            "| stddev| 79442.50288288663|\n",
            "|    min|           34900.0|\n",
            "|    max|          755000.0|\n",
            "+-------+------------------+\n",
            "\n"
          ]
        }
      ]
    },
    {
      "cell_type": "markdown",
      "source": [
        "Gráfico"
      ],
      "metadata": {
        "id": "Pw-18Q01Uy-h"
      }
    },
    {
      "cell_type": "code",
      "source": [
        "#convertendo uma coluna de um DataFrame PySpark em uma lista Python\n",
        "price = df.select(\"SalePrice\").rdd.flatMap(lambda x: x).collect()\n",
        "#Tamanho gráfico\n",
        "plt.figure(figsize=(8, 6))\n",
        "#Criar um histograma\n",
        "sns.histplot(price, color='b', bins=100, kde=True)"
      ],
      "metadata": {
        "colab": {
          "base_uri": "https://localhost:8080/",
          "height": 0
        },
        "id": "gWx92OtvSOjo",
        "outputId": "8f4011c7-85fb-4718-81e0-a322d7e031a2"
      },
      "execution_count": 73,
      "outputs": [
        {
          "output_type": "execute_result",
          "data": {
            "text/plain": [
              "<Axes: ylabel='Count'>"
            ]
          },
          "metadata": {},
          "execution_count": 73
        },
        {
          "output_type": "display_data",
          "data": {
            "text/plain": [
              "<Figure size 800x600 with 1 Axes>"
            ],
            "image/png": "[encoded data removed]"
          },
          "metadata": {}
        }
      ]
    },
    {
      "cell_type": "markdown",
      "source": [
        "## 🧹 Tratamento dos dados\n",
        "***"
      ],
      "metadata": {
        "id": "3Gna5zpKXeLX"
      }
    },
    {
      "cell_type": "markdown",
      "source": [
        "Clone do Dataframe"
      ],
      "metadata": {
        "id": "pUwFyWyPlkdF"
      }
    },
    {
      "cell_type": "code",
      "source": [
        "df_clone = df.alias(\"df_clone\")"
      ],
      "metadata": {
        "id": "_x4l6sFzb920"
      },
      "execution_count": 74,
      "outputs": []
    },
    {
      "cell_type": "markdown",
      "source": [
        "Codificação de colunas categóricas\n",
        "\n"
      ],
      "metadata": {
        "id": "BBkUoECyUJAj"
      }
    },
    {
      "cell_type": "code",
      "source": [
        "#Colunas categóricas\n",
        "colunas_categoricas = [field.name for field in meta if isinstance(field.dataType, StringType)]"
      ],
      "metadata": {
        "id": "9RQMk8G_SOeS"
      },
      "execution_count": 75,
      "outputs": []
    },
    {
      "cell_type": "code",
      "source": [
        "indexers = []"
      ],
      "metadata": {
        "id": "Dln_yWpFSOQq"
      },
      "execution_count": 76,
      "outputs": []
    },
    {
      "cell_type": "code",
      "source": [
        "# Itere sobre as colunas categóricas\n",
        "for coluna in colunas_categoricas:\n",
        "    # Crie um indexador para cada coluna categórica\n",
        "    indexer = StringIndexer(inputCol=coluna, outputCol=coluna + \"_encoded\")\n",
        "\n",
        "    # Ajuste o indexador aos dados de treinamento\n",
        "    model = indexer.fit(df_clone)\n",
        "\n",
        "    # Aplique a codificação à coluna no dataframe original\n",
        "    df_clone = model.transform(df_clone).drop(coluna)"
      ],
      "metadata": {
        "id": "3asGzLUkU0c1"
      },
      "execution_count": 77,
      "outputs": []
    },
    {
      "cell_type": "code",
      "source": [
        "# O dataframe 'df' agora possui as colunas categóricas codificadas\n",
        "df_clone.show(10)"
      ],
      "metadata": {
        "colab": {
          "base_uri": "https://localhost:8080/"
        },
        "id": "xzp5fuKyU04s",
        "outputId": "a75d840c-b47b-4f0a-94b7-4d266ef3d781"
      },
      "execution_count": 78,
      "outputs": [
        {
          "output_type": "stream",
          "name": "stdout",
          "text": [
            "+---+----------+-----------+-------+-----------+-----------+---------+------------+----------+----------+----------+---------+-----------+--------+--------+------------+---------+------------+------------+--------+--------+------------+------------+------------+----------+-----------+----------+----------+----------+-----------+-------------+---------+-----------+--------+-------+------+------+---------+----------------+--------------+-------------+----------------+-------------------+-----------------+-----------------+-----------------+--------------------+------------------+------------------+----------------+------------------+-----------------+----------------+-------------------+-------------------+------------------+-----------------+-----------------+------------------+----------------+----------------+--------------------+--------------------+--------------------+---------------+-----------------+------------------+------------------+-------------------+------------------+-------------------+------------------+--------------------+------------------+------------------+------------------+--------------+-------------+-------------------+----------------+---------------------+\n",
            "| Id|MSSubClass|LotFrontage|LotArea|OverallQual|OverallCond|YearBuilt|YearRemodAdd|MasVnrArea|BsmtFinSF1|BsmtFinSF2|BsmtUnfSF|TotalBsmtSF|1stFlrSF|2ndFlrSF|LowQualFinSF|GrLivArea|BsmtFullBath|BsmtHalfBath|FullBath|HalfBath|BedroomAbvGr|KitchenAbvGr|TotRmsAbvGrd|Fireplaces|GarageYrBlt|GarageCars|GarageArea|WoodDeckSF|OpenPorchSF|EnclosedPorch|3SsnPorch|ScreenPorch|PoolArea|MiscVal|MoSold|YrSold|SalePrice|MSZoning_encoded|Street_encoded|Alley_encoded|LotShape_encoded|LandContour_encoded|Utilities_encoded|LotConfig_encoded|LandSlope_encoded|Neighborhood_encoded|Condition1_encoded|Condition2_encoded|BldgType_encoded|HouseStyle_encoded|RoofStyle_encoded|RoofMatl_encoded|Exterior1st_encoded|Exterior2nd_encoded|MasVnrType_encoded|ExterQual_encoded|ExterCond_encoded|Foundation_encoded|BsmtQual_encoded|BsmtCond_encoded|BsmtExposure_encoded|BsmtFinType1_encoded|BsmtFinType2_encoded|Heating_encoded|HeatingQC_encoded|CentralAir_encoded|Electrical_encoded|KitchenQual_encoded|Functional_encoded|FireplaceQu_encoded|GarageType_encoded|GarageFinish_encoded|GarageQual_encoded|GarageCond_encoded|PavedDrive_encoded|PoolQC_encoded|Fence_encoded|MiscFeature_encoded|SaleType_encoded|SaleCondition_encoded|\n",
            "+---+----------+-----------+-------+-----------+-----------+---------+------------+----------+----------+----------+---------+-----------+--------+--------+------------+---------+------------+------------+--------+--------+------------+------------+------------+----------+-----------+----------+----------+----------+-----------+-------------+---------+-----------+--------+-------+------+------+---------+----------------+--------------+-------------+----------------+-------------------+-----------------+-----------------+-----------------+--------------------+------------------+------------------+----------------+------------------+-----------------+----------------+-------------------+-------------------+------------------+-----------------+-----------------+------------------+----------------+----------------+--------------------+--------------------+--------------------+---------------+-----------------+------------------+------------------+-------------------+------------------+-------------------+------------------+--------------------+------------------+------------------+------------------+--------------+-------------+-------------------+----------------+---------------------+\n",
            "|  1|        60|       65.0| 8450.0|          7|          5|     2003|        2003|     196.0|     706.0|       0.0|    150.0|      856.0|   856.0|   854.0|         0.0|   1710.0|           1|           0|       2|       1|           3|           1|           8|         0|       2003|         2|     548.0|       0.0|       61.0|          0.0|      0.0|        0.0|     0.0|    0.0|     2|  2008| 208500.0|             0.0|           0.0|          0.0|             0.0|                0.0|              0.0|              0.0|              0.0|                 1.0|               0.0|               0.0|             0.0|               1.0|              0.0|             0.0|                0.0|                0.0|               1.0|              1.0|              0.0|               0.0|             1.0|             0.0|                 0.0|                 1.0|                 0.0|            0.0|              0.0|               0.0|               0.0|                1.0|               0.0|                0.0|               0.0|                 1.0|               0.0|               0.0|               0.0|           0.0|          0.0|                0.0|             0.0|                  0.0|\n",
            "|  2|        20|       80.0| 9600.0|          6|          8|     1976|        1976|       0.0|     978.0|       0.0|    284.0|     1262.0|  1262.0|     0.0|         0.0|   1262.0|           0|           1|       2|       0|           3|           1|           6|         1|       1976|         2|     460.0|     298.0|        0.0|          0.0|      0.0|        0.0|     0.0|    0.0|     5|  2007| 181500.0|             0.0|           0.0|          0.0|             0.0|                0.0|              0.0|              3.0|              0.0|                22.0|               1.0|               0.0|             0.0|               0.0|              0.0|             0.0|                2.0|                1.0|               0.0|              0.0|              0.0|               1.0|             1.0|             0.0|                 2.0|                 2.0|                 0.0|            0.0|              0.0|               0.0|               0.0|                0.0|               0.0|                2.0|               0.0|                 1.0|               0.0|               0.0|               0.0|           0.0|          0.0|                0.0|             0.0|                  0.0|\n",
            "|  3|        60|       68.0|11250.0|          7|          5|     2001|        2002|     162.0|     486.0|       0.0|    434.0|      920.0|   920.0|   866.0|         0.0|   1786.0|           1|           0|       2|       1|           3|           1|           6|         1|       2001|         2|     608.0|       0.0|       42.0|          0.0|      0.0|        0.0|     0.0|    0.0|     9|  2008| 223500.0|             0.0|           0.0|          0.0|             1.0|                0.0|              0.0|              0.0|              0.0|                 1.0|               0.0|               0.0|             0.0|               1.0|              0.0|             0.0|                0.0|                0.0|               1.0|              1.0|              0.0|               0.0|             1.0|             0.0|                 3.0|                 1.0|                 0.0|            0.0|              0.0|               0.0|               0.0|                1.0|               0.0|                2.0|               0.0|                 1.0|               0.0|               0.0|               0.0|           0.0|          0.0|                0.0|             0.0|                  0.0|\n",
            "|  4|        70|       60.0| 9550.0|          7|          5|     1915|        1970|       0.0|     216.0|       0.0|    540.0|      756.0|   961.0|   756.0|         0.0|   1717.0|           1|           0|       1|       0|           3|           1|           7|         1|       1998|         3|     642.0|       0.0|       35.0|        272.0|      0.0|        0.0|     0.0|    0.0|     2|  2006| 140000.0|             0.0|           0.0|          0.0|             1.0|                0.0|              0.0|              1.0|              0.0|                11.0|               0.0|               0.0|             0.0|               1.0|              0.0|             0.0|                3.0|                6.0|               0.0|              0.0|              0.0|               2.0|             0.0|             1.0|                 0.0|                 2.0|                 0.0|            0.0|              2.0|               0.0|               0.0|                1.0|               0.0|                1.0|               1.0|                 0.0|               0.0|               0.0|               0.0|           0.0|          0.0|                0.0|             0.0|                  2.0|\n",
            "|  5|        60|       84.0|14260.0|          8|          5|     2000|        2000|     350.0|     655.0|       0.0|    490.0|     1145.0|  1145.0|  1053.0|         0.0|   2198.0|           1|           0|       2|       1|           4|           1|           9|         1|       2000|         3|     836.0|     192.0|       84.0|          0.0|      0.0|        0.0|     0.0|    0.0|    12|  2008| 250000.0|             0.0|           0.0|          0.0|             1.0|                0.0|              0.0|              3.0|              0.0|                13.0|               0.0|               0.0|             0.0|               1.0|              0.0|             0.0|                0.0|                0.0|               1.0|              1.0|              0.0|               0.0|             1.0|             0.0|                 1.0|                 1.0|                 0.0|            0.0|              0.0|               0.0|               0.0|                1.0|               0.0|                2.0|               0.0|                 1.0|               0.0|               0.0|               0.0|           0.0|          0.0|                0.0|             0.0|                  0.0|\n",
            "|  6|        50|       85.0|14115.0|          5|          5|     1993|        1995|       0.0|     732.0|       0.0|     64.0|      796.0|   796.0|   566.0|         0.0|   1362.0|           1|           0|       1|       1|           1|           1|           5|         0|       1993|         2|     480.0|      40.0|       30.0|          0.0|    320.0|        0.0|     0.0|  700.0|    10|  2009| 143000.0|             0.0|           0.0|          0.0|             1.0|                0.0|              0.0|              0.0|              0.0|                12.0|               0.0|               0.0|             0.0|               2.0|              0.0|             0.0|                0.0|                0.0|               0.0|              0.0|              0.0|               5.0|             1.0|             0.0|                 0.0|                 1.0|                 0.0|            0.0|              0.0|               0.0|               0.0|                0.0|               0.0|                0.0|               0.0|                 0.0|               0.0|               0.0|               0.0|           0.0|          1.0|                1.0|             0.0|                  0.0|\n",
            "|  7|        20|       75.0|10084.0|          8|          5|     2004|        2005|     186.0|    1369.0|       0.0|    317.0|     1686.0|  1694.0|     0.0|         0.0|   1694.0|           1|           0|       2|       0|           3|           1|           7|         1|       2004|         2|     636.0|     255.0|       57.0|          0.0|      0.0|        0.0|     0.0|    0.0|     8|  2007| 307000.0|             0.0|           0.0|          0.0|             0.0|                0.0|              0.0|              0.0|              0.0|                 4.0|               0.0|               0.0|             0.0|               0.0|              0.0|             0.0|                0.0|                0.0|               2.0|              1.0|              0.0|               0.0|             2.0|             0.0|                 1.0|                 1.0|                 0.0|            0.0|              0.0|               0.0|               0.0|                1.0|               0.0|                1.0|               0.0|                 1.0|               0.0|               0.0|               0.0|           0.0|          0.0|                0.0|             0.0|                  0.0|\n",
            "|  8|        60|       null|10382.0|          7|          6|     1973|        1973|     240.0|     859.0|      32.0|    216.0|     1107.0|  1107.0|   983.0|         0.0|   2090.0|           1|           0|       2|       1|           3|           1|           7|         2|       1973|         2|     484.0|     235.0|      204.0|        228.0|      0.0|        0.0|     0.0|  350.0|    11|  2009| 200000.0|             0.0|           0.0|          0.0|             1.0|                0.0|              0.0|              1.0|              0.0|                 8.0|               4.0|               0.0|             0.0|               1.0|              0.0|             0.0|                1.0|                2.0|               2.0|              0.0|              0.0|               1.0|             1.0|             0.0|                 3.0|                 2.0|                 4.0|            0.0|              0.0|               0.0|               0.0|                0.0|               0.0|                2.0|               0.0|                 1.0|               0.0|               0.0|               0.0|           0.0|          0.0|                1.0|             0.0|                  0.0|\n",
            "|  9|        50|       51.0| 6120.0|          7|          5|     1931|        1950|       0.0|       0.0|       0.0|    952.0|      952.0|  1022.0|   752.0|         0.0|   1774.0|           0|           0|       2|       0|           2|           2|           8|         2|       1931|         2|     468.0|      90.0|        0.0|        205.0|      0.0|        0.0|     0.0|    0.0|     4|  2008| 129900.0|             1.0|           0.0|          0.0|             0.0|                0.0|              0.0|              0.0|              0.0|                 2.0|               2.0|               0.0|             0.0|               2.0|              0.0|             0.0|                6.0|                6.0|               0.0|              0.0|              0.0|               2.0|             0.0|             0.0|                 0.0|                 0.0|                 0.0|            0.0|              2.0|               0.0|               2.0|                0.0|               2.0|                2.0|               1.0|                 0.0|               2.0|               0.0|               0.0|           0.0|          0.0|                0.0|             0.0|                  2.0|\n",
            "| 10|       190|       50.0| 7420.0|          5|          6|     1939|        1950|       0.0|     851.0|       0.0|    140.0|      991.0|  1077.0|     0.0|         0.0|   1077.0|           1|           0|       1|       0|           2|           2|           5|         2|       1939|         1|     205.0|       0.0|        4.0|          0.0|      0.0|        0.0|     0.0|    0.0|     1|  2008| 118000.0|             0.0|           0.0|          0.0|             0.0|                0.0|              0.0|              1.0|              0.0|                10.0|               2.0|               2.0|             4.0|               5.0|              0.0|             0.0|                2.0|                1.0|               0.0|              0.0|              0.0|               2.0|             0.0|             0.0|                 0.0|                 1.0|                 0.0|            0.0|              0.0|               0.0|               0.0|                0.0|               0.0|                2.0|               0.0|                 1.0|               3.0|               0.0|               0.0|           0.0|          0.0|                0.0|             0.0|                  0.0|\n",
            "+---+----------+-----------+-------+-----------+-----------+---------+------------+----------+----------+----------+---------+-----------+--------+--------+------------+---------+------------+------------+--------+--------+------------+------------+------------+----------+-----------+----------+----------+----------+-----------+-------------+---------+-----------+--------+-------+------+------+---------+----------------+--------------+-------------+----------------+-------------------+-----------------+-----------------+-----------------+--------------------+------------------+------------------+----------------+------------------+-----------------+----------------+-------------------+-------------------+------------------+-----------------+-----------------+------------------+----------------+----------------+--------------------+--------------------+--------------------+---------------+-----------------+------------------+------------------+-------------------+------------------+-------------------+------------------+--------------------+------------------+------------------+------------------+--------------+-------------+-------------------+----------------+---------------------+\n",
            "only showing top 10 rows\n",
            "\n"
          ]
        }
      ]
    },
    {
      "cell_type": "markdown",
      "source": [
        "Número de colunas"
      ],
      "metadata": {
        "id": "oI6e_496XATa"
      }
    },
    {
      "cell_type": "code",
      "source": [
        "print(len(df_clone.columns))"
      ],
      "metadata": {
        "colab": {
          "base_uri": "https://localhost:8080/"
        },
        "id": "gSDTEpqXU02F",
        "outputId": "5c0a45ad-e93a-4025-be60-bb14e9f64620"
      },
      "execution_count": 79,
      "outputs": [
        {
          "output_type": "stream",
          "name": "stdout",
          "text": [
            "81\n"
          ]
        }
      ]
    },
    {
      "cell_type": "markdown",
      "source": [
        "Tratamento de valores nulos, substituindo valores nulos pelo valor médio daquela coluna"
      ],
      "metadata": {
        "id": "7Pof0SwROxbs"
      }
    },
    {
      "cell_type": "code",
      "source": [
        "for coluna in df_clone.columns:\n",
        "  if coluna != 'Id':\n",
        "    # Calcula a média da coluna atual\n",
        "    media_coluna = df_clone.agg(mean(col(coluna))).collect()[0][0]\n",
        "\n",
        "    # Preenche os valores nulos na coluna com a média correspondente\n",
        "    df_clone = df_clone.withColumn(coluna, when(col(coluna).isNull(), lit(media_coluna)).otherwise(col(coluna)))"
      ],
      "metadata": {
        "id": "ceEyXKPAOy_Q"
      },
      "execution_count": 80,
      "outputs": []
    },
    {
      "cell_type": "markdown",
      "source": [
        "Criação de coluna unica chamada Features, utilizada pelo modelo de aprendizagem"
      ],
      "metadata": {
        "id": "tt3zErleggk9"
      }
    },
    {
      "cell_type": "code",
      "source": [
        "colunas_para_selecionar = [coluna for coluna in df_clone.columns if coluna != \"Id\" and coluna != \"SalePrice\"]"
      ],
      "metadata": {
        "id": "yTnVql6MqQDL"
      },
      "execution_count": 81,
      "outputs": []
    },
    {
      "cell_type": "code",
      "source": [
        "vector_assembler = VectorAssembler(inputCols=colunas_para_selecionar, outputCol=\"features\")"
      ],
      "metadata": {
        "id": "Er3HzQNVgYhS"
      },
      "execution_count": 82,
      "outputs": []
    },
    {
      "cell_type": "code",
      "source": [
        "df_com_features = vector_assembler.transform(df_clone)"
      ],
      "metadata": {
        "id": "iEIoc2i8gYd3"
      },
      "execution_count": 83,
      "outputs": []
    },
    {
      "cell_type": "code",
      "source": [
        "df_com_features.show(5)"
      ],
      "metadata": {
        "colab": {
          "base_uri": "https://localhost:8080/"
        },
        "id": "eIg7J9X0gYZ6",
        "outputId": "6f5cc966-4e89-4bee-92a8-d4d6580520e6"
      },
      "execution_count": 84,
      "outputs": [
        {
          "output_type": "stream",
          "name": "stdout",
          "text": [
            "+---+----------+-----------+-------+-----------+-----------+---------+------------+----------+----------+----------+---------+-----------+--------+--------+------------+---------+------------+------------+--------+--------+------------+------------+------------+----------+-----------+----------+----------+----------+-----------+-------------+---------+-----------+--------+-------+------+------+---------+----------------+--------------+-------------+----------------+-------------------+-----------------+-----------------+-----------------+--------------------+------------------+------------------+----------------+------------------+-----------------+----------------+-------------------+-------------------+------------------+-----------------+-----------------+------------------+----------------+----------------+--------------------+--------------------+--------------------+---------------+-----------------+------------------+------------------+-------------------+------------------+-------------------+------------------+--------------------+------------------+------------------+------------------+--------------+-------------+-------------------+----------------+---------------------+--------------------+\n",
            "| Id|MSSubClass|LotFrontage|LotArea|OverallQual|OverallCond|YearBuilt|YearRemodAdd|MasVnrArea|BsmtFinSF1|BsmtFinSF2|BsmtUnfSF|TotalBsmtSF|1stFlrSF|2ndFlrSF|LowQualFinSF|GrLivArea|BsmtFullBath|BsmtHalfBath|FullBath|HalfBath|BedroomAbvGr|KitchenAbvGr|TotRmsAbvGrd|Fireplaces|GarageYrBlt|GarageCars|GarageArea|WoodDeckSF|OpenPorchSF|EnclosedPorch|3SsnPorch|ScreenPorch|PoolArea|MiscVal|MoSold|YrSold|SalePrice|MSZoning_encoded|Street_encoded|Alley_encoded|LotShape_encoded|LandContour_encoded|Utilities_encoded|LotConfig_encoded|LandSlope_encoded|Neighborhood_encoded|Condition1_encoded|Condition2_encoded|BldgType_encoded|HouseStyle_encoded|RoofStyle_encoded|RoofMatl_encoded|Exterior1st_encoded|Exterior2nd_encoded|MasVnrType_encoded|ExterQual_encoded|ExterCond_encoded|Foundation_encoded|BsmtQual_encoded|BsmtCond_encoded|BsmtExposure_encoded|BsmtFinType1_encoded|BsmtFinType2_encoded|Heating_encoded|HeatingQC_encoded|CentralAir_encoded|Electrical_encoded|KitchenQual_encoded|Functional_encoded|FireplaceQu_encoded|GarageType_encoded|GarageFinish_encoded|GarageQual_encoded|GarageCond_encoded|PavedDrive_encoded|PoolQC_encoded|Fence_encoded|MiscFeature_encoded|SaleType_encoded|SaleCondition_encoded|            features|\n",
            "+---+----------+-----------+-------+-----------+-----------+---------+------------+----------+----------+----------+---------+-----------+--------+--------+------------+---------+------------+------------+--------+--------+------------+------------+------------+----------+-----------+----------+----------+----------+-----------+-------------+---------+-----------+--------+-------+------+------+---------+----------------+--------------+-------------+----------------+-------------------+-----------------+-----------------+-----------------+--------------------+------------------+------------------+----------------+------------------+-----------------+----------------+-------------------+-------------------+------------------+-----------------+-----------------+------------------+----------------+----------------+--------------------+--------------------+--------------------+---------------+-----------------+------------------+------------------+-------------------+------------------+-------------------+------------------+--------------------+------------------+------------------+------------------+--------------+-------------+-------------------+----------------+---------------------+--------------------+\n",
            "|  1|      60.0|       65.0| 8450.0|        7.0|        5.0|   2003.0|      2003.0|     196.0|     706.0|       0.0|    150.0|      856.0|   856.0|   854.0|         0.0|   1710.0|         1.0|         0.0|     2.0|     1.0|         3.0|         1.0|         8.0|       0.0|     2003.0|       2.0|     548.0|       0.0|       61.0|          0.0|      0.0|        0.0|     0.0|    0.0|   2.0|2008.0| 208500.0|             0.0|           0.0|          0.0|             0.0|                0.0|              0.0|              0.0|              0.0|                 1.0|               0.0|               0.0|             0.0|               1.0|              0.0|             0.0|                0.0|                0.0|               1.0|              1.0|              0.0|               0.0|             1.0|             0.0|                 0.0|                 1.0|                 0.0|            0.0|              0.0|               0.0|               0.0|                1.0|               0.0|                0.0|               0.0|                 1.0|               0.0|               0.0|               0.0|           0.0|          0.0|                0.0|             0.0|                  0.0|(79,[0,1,2,3,4,5,...|\n",
            "|  2|      20.0|       80.0| 9600.0|        6.0|        8.0|   1976.0|      1976.0|       0.0|     978.0|       0.0|    284.0|     1262.0|  1262.0|     0.0|         0.0|   1262.0|         0.0|         1.0|     2.0|     0.0|         3.0|         1.0|         6.0|       1.0|     1976.0|       2.0|     460.0|     298.0|        0.0|          0.0|      0.0|        0.0|     0.0|    0.0|   5.0|2007.0| 181500.0|             0.0|           0.0|          0.0|             0.0|                0.0|              0.0|              3.0|              0.0|                22.0|               1.0|               0.0|             0.0|               0.0|              0.0|             0.0|                2.0|                1.0|               0.0|              0.0|              0.0|               1.0|             1.0|             0.0|                 2.0|                 2.0|                 0.0|            0.0|              0.0|               0.0|               0.0|                0.0|               0.0|                2.0|               0.0|                 1.0|               0.0|               0.0|               0.0|           0.0|          0.0|                0.0|             0.0|                  0.0|(79,[0,1,2,3,4,5,...|\n",
            "|  3|      60.0|       68.0|11250.0|        7.0|        5.0|   2001.0|      2002.0|     162.0|     486.0|       0.0|    434.0|      920.0|   920.0|   866.0|         0.0|   1786.0|         1.0|         0.0|     2.0|     1.0|         3.0|         1.0|         6.0|       1.0|     2001.0|       2.0|     608.0|       0.0|       42.0|          0.0|      0.0|        0.0|     0.0|    0.0|   9.0|2008.0| 223500.0|             0.0|           0.0|          0.0|             1.0|                0.0|              0.0|              0.0|              0.0|                 1.0|               0.0|               0.0|             0.0|               1.0|              0.0|             0.0|                0.0|                0.0|               1.0|              1.0|              0.0|               0.0|             1.0|             0.0|                 3.0|                 1.0|                 0.0|            0.0|              0.0|               0.0|               0.0|                1.0|               0.0|                2.0|               0.0|                 1.0|               0.0|               0.0|               0.0|           0.0|          0.0|                0.0|             0.0|                  0.0|(79,[0,1,2,3,4,5,...|\n",
            "|  4|      70.0|       60.0| 9550.0|        7.0|        5.0|   1915.0|      1970.0|       0.0|     216.0|       0.0|    540.0|      756.0|   961.0|   756.0|         0.0|   1717.0|         1.0|         0.0|     1.0|     0.0|         3.0|         1.0|         7.0|       1.0|     1998.0|       3.0|     642.0|       0.0|       35.0|        272.0|      0.0|        0.0|     0.0|    0.0|   2.0|2006.0| 140000.0|             0.0|           0.0|          0.0|             1.0|                0.0|              0.0|              1.0|              0.0|                11.0|               0.0|               0.0|             0.0|               1.0|              0.0|             0.0|                3.0|                6.0|               0.0|              0.0|              0.0|               2.0|             0.0|             1.0|                 0.0|                 2.0|                 0.0|            0.0|              2.0|               0.0|               0.0|                1.0|               0.0|                1.0|               1.0|                 0.0|               0.0|               0.0|               0.0|           0.0|          0.0|                0.0|             0.0|                  2.0|(79,[0,1,2,3,4,5,...|\n",
            "|  5|      60.0|       84.0|14260.0|        8.0|        5.0|   2000.0|      2000.0|     350.0|     655.0|       0.0|    490.0|     1145.0|  1145.0|  1053.0|         0.0|   2198.0|         1.0|         0.0|     2.0|     1.0|         4.0|         1.0|         9.0|       1.0|     2000.0|       3.0|     836.0|     192.0|       84.0|          0.0|      0.0|        0.0|     0.0|    0.0|  12.0|2008.0| 250000.0|             0.0|           0.0|          0.0|             1.0|                0.0|              0.0|              3.0|              0.0|                13.0|               0.0|               0.0|             0.0|               1.0|              0.0|             0.0|                0.0|                0.0|               1.0|              1.0|              0.0|               0.0|             1.0|             0.0|                 1.0|                 1.0|                 0.0|            0.0|              0.0|               0.0|               0.0|                1.0|               0.0|                2.0|               0.0|                 1.0|               0.0|               0.0|               0.0|           0.0|          0.0|                0.0|             0.0|                  0.0|(79,[0,1,2,3,4,5,...|\n",
            "+---+----------+-----------+-------+-----------+-----------+---------+------------+----------+----------+----------+---------+-----------+--------+--------+------------+---------+------------+------------+--------+--------+------------+------------+------------+----------+-----------+----------+----------+----------+-----------+-------------+---------+-----------+--------+-------+------+------+---------+----------------+--------------+-------------+----------------+-------------------+-----------------+-----------------+-----------------+--------------------+------------------+------------------+----------------+------------------+-----------------+----------------+-------------------+-------------------+------------------+-----------------+-----------------+------------------+----------------+----------------+--------------------+--------------------+--------------------+---------------+-----------------+------------------+------------------+-------------------+------------------+-------------------+------------------+--------------------+------------------+------------------+------------------+--------------+-------------+-------------------+----------------+---------------------+--------------------+\n",
            "only showing top 5 rows\n",
            "\n"
          ]
        }
      ]
    },
    {
      "cell_type": "markdown",
      "source": [
        "Copiando somente as três colunas Id, SalePrice e features em um novo DataFrame"
      ],
      "metadata": {
        "id": "2tmjrCIXZZzp"
      }
    },
    {
      "cell_type": "code",
      "source": [
        "df_features = df_com_features.select(\"Id\", \"SalePrice\", \"features\")"
      ],
      "metadata": {
        "id": "yRZphUAhnGPd"
      },
      "execution_count": 85,
      "outputs": []
    },
    {
      "cell_type": "code",
      "source": [
        "df_features.show(5)"
      ],
      "metadata": {
        "colab": {
          "base_uri": "https://localhost:8080/"
        },
        "id": "lNsnCrjnnGBe",
        "outputId": "397b1cb4-f811-44e5-ce7d-b1922c2fc2fe"
      },
      "execution_count": 86,
      "outputs": [
        {
          "output_type": "stream",
          "name": "stdout",
          "text": [
            "+---+---------+--------------------+\n",
            "| Id|SalePrice|            features|\n",
            "+---+---------+--------------------+\n",
            "|  1| 208500.0|(79,[0,1,2,3,4,5,...|\n",
            "|  2| 181500.0|(79,[0,1,2,3,4,5,...|\n",
            "|  3| 223500.0|(79,[0,1,2,3,4,5,...|\n",
            "|  4| 140000.0|(79,[0,1,2,3,4,5,...|\n",
            "|  5| 250000.0|(79,[0,1,2,3,4,5,...|\n",
            "+---+---------+--------------------+\n",
            "only showing top 5 rows\n",
            "\n"
          ]
        }
      ]
    },
    {
      "cell_type": "markdown",
      "source": [
        "## 🤖 MODELO\n",
        "***"
      ],
      "metadata": {
        "id": "NJz-kuEOeNbm"
      }
    },
    {
      "cell_type": "markdown",
      "source": [
        "Criação de um modelo de Random Forest Regressor, features colunas usadas para prever o alvo, SalePrice coluna alvo"
      ],
      "metadata": {
        "id": "m2sNZzjSaqgo"
      }
    },
    {
      "cell_type": "code",
      "source": [
        "rf = RandomForestRegressor(featuresCol=\"features\", labelCol=\"SalePrice\", numTrees=150, maxDepth=20)"
      ],
      "metadata": {
        "id": "IvusVuLJCEMN"
      },
      "execution_count": 115,
      "outputs": []
    },
    {
      "cell_type": "markdown",
      "source": [
        "Treinamento do modelo"
      ],
      "metadata": {
        "id": "S3rCSA7SbeaA"
      }
    },
    {
      "cell_type": "code",
      "source": [
        "modelo = rf.fit(df_features)"
      ],
      "metadata": {
        "id": "wHQa2-HTBuri"
      },
      "execution_count": 116,
      "outputs": []
    },
    {
      "cell_type": "markdown",
      "source": [
        "## Dados de teste\n",
        "***"
      ],
      "metadata": {
        "id": "HslFENtGfl3V"
      }
    },
    {
      "cell_type": "markdown",
      "source": [
        "Carregando arquivos de teste"
      ],
      "metadata": {
        "id": "maIcmXGSIVrd"
      }
    },
    {
      "cell_type": "code",
      "source": [
        "uploaded = files.upload()"
      ],
      "metadata": {
        "id": "jPeG8xrPfrdp"
      },
      "execution_count": 117,
      "outputs": []
    },
    {
      "cell_type": "code",
      "source": [
        "file_test = r'teste.csv'"
      ],
      "metadata": {
        "id": "xVTwOc8gfrrq"
      },
      "execution_count": 118,
      "outputs": []
    },
    {
      "cell_type": "markdown",
      "source": [
        "Schema do Dataframe de teste"
      ],
      "metadata": {
        "id": "WQ3WEljxFoZw"
      }
    },
    {
      "cell_type": "code",
      "source": [
        "schema_test = StructType([\n",
        "    #Nome da coluna, Tipo dos dados, Condição que permite valores nulos\n",
        "    StructField(\"Id\", IntegerType(), True),\n",
        "    StructField(\"MSSubClass\", IntegerType(), True),\n",
        "    StructField(\"MSZoning\", StringType(), True),\n",
        "    StructField(\"LotFrontage\", DoubleType(), True),\n",
        "    StructField(\"LotArea\", DoubleType(), True),\n",
        "    StructField(\"Street\", StringType(), True),\n",
        "    StructField(\"Alley\", StringType(), True),\n",
        "    StructField(\"LotShape\", StringType(), True),\n",
        "    StructField(\"LandContour\", StringType(), True),\n",
        "    StructField(\"Utilities\", StringType(), True),\n",
        "    StructField(\"LotConfig\", StringType(), True),\n",
        "    StructField(\"LandSlope\", StringType(), True),\n",
        "    StructField(\"Neighborhood\", StringType(), True),\n",
        "    StructField(\"Condition1\", StringType(), True),\n",
        "    StructField(\"Condition2\", StringType(), True),\n",
        "    StructField(\"BldgType\", StringType(), True),\n",
        "    StructField(\"HouseStyle\", StringType(), True),\n",
        "    StructField(\"OverallQual\", IntegerType(), True),\n",
        "    StructField(\"OverallCond\", IntegerType(), True),\n",
        "    StructField(\"YearBuilt\", IntegerType(), True),\n",
        "    StructField(\"YearRemodAdd\", IntegerType(), True),\n",
        "    StructField(\"RoofStyle\", StringType(), True),\n",
        "    StructField(\"RoofMatl\", StringType(), True),\n",
        "    StructField(\"Exterior1st\", StringType(), True),\n",
        "    StructField(\"Exterior2nd\", StringType(), True),\n",
        "    StructField(\"MasVnrType\", StringType(), True),\n",
        "    StructField(\"MasVnrArea\", DoubleType(), True),\n",
        "    StructField(\"ExterQual\", StringType(), True),\n",
        "    StructField(\"ExterCond\", StringType(), True),\n",
        "    StructField(\"Foundation\", StringType(), True),\n",
        "    StructField(\"BsmtQual\", StringType(), True),\n",
        "    StructField(\"BsmtCond\", StringType(), True),\n",
        "    StructField(\"BsmtExposure\", StringType(), True),\n",
        "    StructField(\"BsmtFinType1\", StringType(), True),\n",
        "    StructField(\"BsmtFinSF1\", DoubleType(), True),\n",
        "    StructField(\"BsmtFinType2\", StringType(), True),\n",
        "    StructField(\"BsmtFinSF2\", DoubleType(), True),\n",
        "    StructField(\"BsmtUnfSF\", DoubleType(), True),\n",
        "    StructField(\"TotalBsmtSF\", DoubleType(), True),\n",
        "    StructField(\"Heating\", StringType(), True),\n",
        "    StructField(\"HeatingQC\", StringType(), True),\n",
        "    StructField(\"CentralAir\", StringType(), True),\n",
        "    StructField(\"Electrical\", StringType(), True),\n",
        "    StructField(\"1stFlrSF\", DoubleType(), True),\n",
        "    StructField(\"2ndFlrSF\", DoubleType(), True),\n",
        "    StructField(\"LowQualFinSF\", DoubleType(), True),\n",
        "    StructField(\"GrLivArea\", DoubleType(), True),\n",
        "    StructField(\"BsmtFullBath\", IntegerType(), True),\n",
        "    StructField(\"BsmtHalfBath\", IntegerType(), True),\n",
        "    StructField(\"FullBath\", IntegerType(), True),\n",
        "    StructField(\"HalfBath\", IntegerType(), True),\n",
        "    StructField(\"BedroomAbvGr\", IntegerType(), True),\n",
        "    StructField(\"KitchenAbvGr\", IntegerType(), True),\n",
        "    StructField(\"KitchenQual\", StringType(), True),\n",
        "    StructField(\"TotRmsAbvGrd\", IntegerType(), True),\n",
        "    StructField(\"Functional\", StringType(), True),\n",
        "    StructField(\"Fireplaces\", IntegerType(), True),\n",
        "    StructField(\"FireplaceQu\", StringType(), True),\n",
        "    StructField(\"GarageType\", StringType(), True),\n",
        "    StructField(\"GarageYrBlt\", IntegerType(), True),\n",
        "    StructField(\"GarageFinish\", StringType(), True),\n",
        "    StructField(\"GarageCars\", IntegerType(), True),\n",
        "    StructField(\"GarageArea\", DoubleType(), True),\n",
        "    StructField(\"GarageQual\", StringType(), True),\n",
        "    StructField(\"GarageCond\", StringType(), True),\n",
        "    StructField(\"PavedDrive\", StringType(), True),\n",
        "    StructField(\"WoodDeckSF\", DoubleType(), True),\n",
        "    StructField(\"OpenPorchSF\", DoubleType(), True),\n",
        "    StructField(\"EnclosedPorch\", DoubleType(), True),\n",
        "    StructField(\"3SsnPorch\", DoubleType(), True),\n",
        "    StructField(\"ScreenPorch\", DoubleType(), True),\n",
        "    StructField(\"PoolArea\", DoubleType(), True),\n",
        "    StructField(\"PoolQC\", StringType(), True),\n",
        "    StructField(\"Fence\", StringType(), True),\n",
        "    StructField(\"MiscFeature\", StringType(), True),\n",
        "    StructField(\"MiscVal\", DoubleType(), True),\n",
        "    StructField(\"MoSold\", IntegerType(), True),\n",
        "    StructField(\"YrSold\", IntegerType(), True),\n",
        "    StructField(\"SaleType\", StringType(), True),\n",
        "    StructField(\"SaleCondition\", StringType(), True),\n",
        "    StructField(\"SalePrice\", DoubleType(), True)\n",
        "])"
      ],
      "metadata": {
        "id": "tcVf4DxUCWNs"
      },
      "execution_count": 119,
      "outputs": []
    },
    {
      "cell_type": "code",
      "source": [
        "df_test = spark.read.csv(file_test, header=True, schema=schema_test)"
      ],
      "metadata": {
        "id": "5MrgFD9ygEbA"
      },
      "execution_count": 120,
      "outputs": []
    },
    {
      "cell_type": "code",
      "source": [
        "df_test.show(5)"
      ],
      "metadata": {
        "colab": {
          "base_uri": "https://localhost:8080/"
        },
        "id": "L8SMj6sKh6a6",
        "outputId": "50507067-c728-4545-bf02-89d9f36c36fb"
      },
      "execution_count": 121,
      "outputs": [
        {
          "output_type": "stream",
          "name": "stdout",
          "text": [
            "+----+----------+--------+-----------+-------+------+-----+--------+-----------+---------+---------+---------+------------+----------+----------+--------+----------+-----------+-----------+---------+------------+---------+--------+-----------+-----------+----------+----------+---------+---------+----------+--------+--------+------------+------------+----------+------------+----------+---------+-----------+-------+---------+----------+----------+--------+--------+------------+---------+------------+------------+--------+--------+------------+------------+-----------+------------+----------+----------+-----------+----------+-----------+------------+----------+----------+----------+----------+----------+----------+-----------+-------------+---------+-----------+--------+------+-----+-----------+-------+------+------+--------+-------------+---------+\n",
            "|  Id|MSSubClass|MSZoning|LotFrontage|LotArea|Street|Alley|LotShape|LandContour|Utilities|LotConfig|LandSlope|Neighborhood|Condition1|Condition2|BldgType|HouseStyle|OverallQual|OverallCond|YearBuilt|YearRemodAdd|RoofStyle|RoofMatl|Exterior1st|Exterior2nd|MasVnrType|MasVnrArea|ExterQual|ExterCond|Foundation|BsmtQual|BsmtCond|BsmtExposure|BsmtFinType1|BsmtFinSF1|BsmtFinType2|BsmtFinSF2|BsmtUnfSF|TotalBsmtSF|Heating|HeatingQC|CentralAir|Electrical|1stFlrSF|2ndFlrSF|LowQualFinSF|GrLivArea|BsmtFullBath|BsmtHalfBath|FullBath|HalfBath|BedroomAbvGr|KitchenAbvGr|KitchenQual|TotRmsAbvGrd|Functional|Fireplaces|FireplaceQu|GarageType|GarageYrBlt|GarageFinish|GarageCars|GarageArea|GarageQual|GarageCond|PavedDrive|WoodDeckSF|OpenPorchSF|EnclosedPorch|3SsnPorch|ScreenPorch|PoolArea|PoolQC|Fence|MiscFeature|MiscVal|MoSold|YrSold|SaleType|SaleCondition|SalePrice|\n",
            "+----+----------+--------+-----------+-------+------+-----+--------+-----------+---------+---------+---------+------------+----------+----------+--------+----------+-----------+-----------+---------+------------+---------+--------+-----------+-----------+----------+----------+---------+---------+----------+--------+--------+------------+------------+----------+------------+----------+---------+-----------+-------+---------+----------+----------+--------+--------+------------+---------+------------+------------+--------+--------+------------+------------+-----------+------------+----------+----------+-----------+----------+-----------+------------+----------+----------+----------+----------+----------+----------+-----------+-------------+---------+-----------+--------+------+-----+-----------+-------+------+------+--------+-------------+---------+\n",
            "|1461|        20|      RH|       80.0|11622.0|  Pave|   NA|     Reg|        Lvl|   AllPub|   Inside|      Gtl|       NAmes|     Feedr|      Norm|    1Fam|    1Story|          5|          6|     1961|        1961|    Gable| CompShg|    VinylSd|    VinylSd|      None|       0.0|       TA|       TA|    CBlock|      TA|      TA|          No|         Rec|     468.0|         LwQ|     144.0|    270.0|      882.0|   GasA|       TA|         Y|     SBrkr|   896.0|     0.0|         0.0|    896.0|           0|           0|       1|       0|           2|           1|         TA|           5|       Typ|         0|         NA|    Attchd|       1961|         Unf|         1|     730.0|        TA|        TA|         Y|     140.0|        0.0|          0.0|      0.0|      120.0|     0.0|    NA|MnPrv|         NA|    0.0|     6|  2010|      WD|       Normal|     null|\n",
            "|1462|        20|      RL|       81.0|14267.0|  Pave|   NA|     IR1|        Lvl|   AllPub|   Corner|      Gtl|       NAmes|      Norm|      Norm|    1Fam|    1Story|          6|          6|     1958|        1958|      Hip| CompShg|    Wd Sdng|    Wd Sdng|   BrkFace|     108.0|       TA|       TA|    CBlock|      TA|      TA|          No|         ALQ|     923.0|         Unf|       0.0|    406.0|     1329.0|   GasA|       TA|         Y|     SBrkr|  1329.0|     0.0|         0.0|   1329.0|           0|           0|       1|       1|           3|           1|         Gd|           6|       Typ|         0|         NA|    Attchd|       1958|         Unf|         1|     312.0|        TA|        TA|         Y|     393.0|       36.0|          0.0|      0.0|        0.0|     0.0|    NA|   NA|       Gar2|12500.0|     6|  2010|      WD|       Normal|     null|\n",
            "|1463|        60|      RL|       74.0|13830.0|  Pave|   NA|     IR1|        Lvl|   AllPub|   Inside|      Gtl|     Gilbert|      Norm|      Norm|    1Fam|    2Story|          5|          5|     1997|        1998|    Gable| CompShg|    VinylSd|    VinylSd|      None|       0.0|       TA|       TA|     PConc|      Gd|      TA|          No|         GLQ|     791.0|         Unf|       0.0|    137.0|      928.0|   GasA|       Gd|         Y|     SBrkr|   928.0|   701.0|         0.0|   1629.0|           0|           0|       2|       1|           3|           1|         TA|           6|       Typ|         1|         TA|    Attchd|       1997|         Fin|         2|     482.0|        TA|        TA|         Y|     212.0|       34.0|          0.0|      0.0|        0.0|     0.0|    NA|MnPrv|         NA|    0.0|     3|  2010|      WD|       Normal|     null|\n",
            "|1464|        60|      RL|       78.0| 9978.0|  Pave|   NA|     IR1|        Lvl|   AllPub|   Inside|      Gtl|     Gilbert|      Norm|      Norm|    1Fam|    2Story|          6|          6|     1998|        1998|    Gable| CompShg|    VinylSd|    VinylSd|   BrkFace|      20.0|       TA|       TA|     PConc|      TA|      TA|          No|         GLQ|     602.0|         Unf|       0.0|    324.0|      926.0|   GasA|       Ex|         Y|     SBrkr|   926.0|   678.0|         0.0|   1604.0|           0|           0|       2|       1|           3|           1|         Gd|           7|       Typ|         1|         Gd|    Attchd|       1998|         Fin|         2|     470.0|        TA|        TA|         Y|     360.0|       36.0|          0.0|      0.0|        0.0|     0.0|    NA|   NA|         NA|    0.0|     6|  2010|      WD|       Normal|     null|\n",
            "|1465|       120|      RL|       43.0| 5005.0|  Pave|   NA|     IR1|        HLS|   AllPub|   Inside|      Gtl|     StoneBr|      Norm|      Norm|  TwnhsE|    1Story|          8|          5|     1992|        1992|    Gable| CompShg|    HdBoard|    HdBoard|      None|       0.0|       Gd|       TA|     PConc|      Gd|      TA|          No|         ALQ|     263.0|         Unf|       0.0|   1017.0|     1280.0|   GasA|       Ex|         Y|     SBrkr|  1280.0|     0.0|         0.0|   1280.0|           0|           0|       2|       0|           2|           1|         Gd|           5|       Typ|         0|         NA|    Attchd|       1992|         RFn|         2|     506.0|        TA|        TA|         Y|       0.0|       82.0|          0.0|      0.0|      144.0|     0.0|    NA|   NA|         NA|    0.0|     1|  2010|      WD|       Normal|     null|\n",
            "+----+----------+--------+-----------+-------+------+-----+--------+-----------+---------+---------+---------+------------+----------+----------+--------+----------+-----------+-----------+---------+------------+---------+--------+-----------+-----------+----------+----------+---------+---------+----------+--------+--------+------------+------------+----------+------------+----------+---------+-----------+-------+---------+----------+----------+--------+--------+------------+---------+------------+------------+--------+--------+------------+------------+-----------+------------+----------+----------+-----------+----------+-----------+------------+----------+----------+----------+----------+----------+----------+-----------+-------------+---------+-----------+--------+------+-----+-----------+-------+------+------+--------+-------------+---------+\n",
            "only showing top 5 rows\n",
            "\n"
          ]
        }
      ]
    },
    {
      "cell_type": "code",
      "source": [
        "df_test_clone = df_test.alias('df_test_clone')"
      ],
      "metadata": {
        "id": "caNHgwB6ijix"
      },
      "execution_count": 122,
      "outputs": []
    },
    {
      "cell_type": "markdown",
      "source": [
        "Número de valores nulos em cada coluna"
      ],
      "metadata": {
        "id": "V0vJO8ZnFzsT"
      }
    },
    {
      "cell_type": "code",
      "source": [
        "# Para cada coluna no Dataframe\n",
        "for colunas in df_test_clone.columns:\n",
        "  # Imprime o nome da coluna e o número de linhas com valores nulos\n",
        "  print(f' {colunas}:  {df_test_clone.filter(col(colunas).isNull()).count()}')"
      ],
      "metadata": {
        "colab": {
          "base_uri": "https://localhost:8080/"
        },
        "id": "gckG-eg6nSkp",
        "outputId": "1dbfe491-3e44-47e9-88b1-a4964c34f2fc"
      },
      "execution_count": 123,
      "outputs": [
        {
          "output_type": "stream",
          "name": "stdout",
          "text": [
            " Id:  0\n",
            " MSSubClass:  0\n",
            " MSZoning:  0\n",
            " LotFrontage:  227\n",
            " LotArea:  0\n",
            " Street:  0\n",
            " Alley:  0\n",
            " LotShape:  0\n",
            " LandContour:  0\n",
            " Utilities:  0\n",
            " LotConfig:  0\n",
            " LandSlope:  0\n",
            " Neighborhood:  0\n",
            " Condition1:  0\n",
            " Condition2:  0\n",
            " BldgType:  0\n",
            " HouseStyle:  0\n",
            " OverallQual:  0\n",
            " OverallCond:  0\n",
            " YearBuilt:  0\n",
            " YearRemodAdd:  0\n",
            " RoofStyle:  0\n",
            " RoofMatl:  0\n",
            " Exterior1st:  0\n",
            " Exterior2nd:  0\n",
            " MasVnrType:  0\n",
            " MasVnrArea:  15\n",
            " ExterQual:  0\n",
            " ExterCond:  0\n",
            " Foundation:  0\n",
            " BsmtQual:  0\n",
            " BsmtCond:  0\n",
            " BsmtExposure:  0\n",
            " BsmtFinType1:  0\n",
            " BsmtFinSF1:  1\n",
            " BsmtFinType2:  0\n",
            " BsmtFinSF2:  1\n",
            " BsmtUnfSF:  1\n",
            " TotalBsmtSF:  1\n",
            " Heating:  0\n",
            " HeatingQC:  0\n",
            " CentralAir:  0\n",
            " Electrical:  0\n",
            " 1stFlrSF:  0\n",
            " 2ndFlrSF:  0\n",
            " LowQualFinSF:  0\n",
            " GrLivArea:  0\n",
            " BsmtFullBath:  2\n",
            " BsmtHalfBath:  2\n",
            " FullBath:  0\n",
            " HalfBath:  0\n",
            " BedroomAbvGr:  0\n",
            " KitchenAbvGr:  0\n",
            " KitchenQual:  0\n",
            " TotRmsAbvGrd:  0\n",
            " Functional:  0\n",
            " Fireplaces:  0\n",
            " FireplaceQu:  0\n",
            " GarageType:  0\n",
            " GarageYrBlt:  78\n",
            " GarageFinish:  0\n",
            " GarageCars:  1\n",
            " GarageArea:  1\n",
            " GarageQual:  0\n",
            " GarageCond:  0\n",
            " PavedDrive:  0\n",
            " WoodDeckSF:  0\n",
            " OpenPorchSF:  0\n",
            " EnclosedPorch:  0\n",
            " 3SsnPorch:  0\n",
            " ScreenPorch:  0\n",
            " PoolArea:  0\n",
            " PoolQC:  0\n",
            " Fence:  0\n",
            " MiscFeature:  0\n",
            " MiscVal:  0\n",
            " MoSold:  0\n",
            " YrSold:  0\n",
            " SaleType:  0\n",
            " SaleCondition:  0\n",
            " SalePrice:  1459\n"
          ]
        }
      ]
    },
    {
      "cell_type": "markdown",
      "source": [
        "Substituindo os valores nulos pela média de cada coluna"
      ],
      "metadata": {
        "id": "dSpo0CnDF-wm"
      }
    },
    {
      "cell_type": "code",
      "source": [
        "  for coluna in df_test_clone.columns:\n",
        "    if coluna != 'Id':\n",
        "        # Calcula a média da coluna atual\n",
        "        media_coluna = df_test_clone.agg(mean(col(coluna))).collect()[0][0]\n",
        "\n",
        "        # Preenche os valores nulos na coluna com a média correspondente\n",
        "        df_test_clone = df_test_clone.withColumn(coluna, when(col(coluna).isNull(), lit(media_coluna)).otherwise(col(coluna)))"
      ],
      "metadata": {
        "id": "7zhge2JLgEHy"
      },
      "execution_count": 124,
      "outputs": []
    },
    {
      "cell_type": "markdown",
      "source": [
        "Número de valores nulos em cada coluna"
      ],
      "metadata": {
        "id": "nWh1X9wCGQhK"
      }
    },
    {
      "cell_type": "code",
      "source": [
        "# Para cada coluna no Dataframe\n",
        "for colunas in df_test_clone.columns:\n",
        "  # Imprime o nome da coluna e o número de linhas com valores nulos\n",
        "  print(f' {colunas}:  {df_test_clone.filter(col(colunas).isNull()).count()}')"
      ],
      "metadata": {
        "colab": {
          "base_uri": "https://localhost:8080/"
        },
        "id": "gunaC7L9w3eH",
        "outputId": "7ab044ec-935c-466c-c8a0-1a730827e7f5"
      },
      "execution_count": 125,
      "outputs": [
        {
          "output_type": "stream",
          "name": "stdout",
          "text": [
            " Id:  0\n",
            " MSSubClass:  0\n",
            " MSZoning:  0\n",
            " LotFrontage:  0\n",
            " LotArea:  0\n",
            " Street:  0\n",
            " Alley:  0\n",
            " LotShape:  0\n",
            " LandContour:  0\n",
            " Utilities:  0\n",
            " LotConfig:  0\n",
            " LandSlope:  0\n",
            " Neighborhood:  0\n",
            " Condition1:  0\n",
            " Condition2:  0\n",
            " BldgType:  0\n",
            " HouseStyle:  0\n",
            " OverallQual:  0\n",
            " OverallCond:  0\n",
            " YearBuilt:  0\n",
            " YearRemodAdd:  0\n",
            " RoofStyle:  0\n",
            " RoofMatl:  0\n",
            " Exterior1st:  0\n",
            " Exterior2nd:  0\n",
            " MasVnrType:  0\n",
            " MasVnrArea:  0\n",
            " ExterQual:  0\n",
            " ExterCond:  0\n",
            " Foundation:  0\n",
            " BsmtQual:  0\n",
            " BsmtCond:  0\n",
            " BsmtExposure:  0\n",
            " BsmtFinType1:  0\n",
            " BsmtFinSF1:  0\n",
            " BsmtFinType2:  0\n",
            " BsmtFinSF2:  0\n",
            " BsmtUnfSF:  0\n",
            " TotalBsmtSF:  0\n",
            " Heating:  0\n",
            " HeatingQC:  0\n",
            " CentralAir:  0\n",
            " Electrical:  0\n",
            " 1stFlrSF:  0\n",
            " 2ndFlrSF:  0\n",
            " LowQualFinSF:  0\n",
            " GrLivArea:  0\n",
            " BsmtFullBath:  0\n",
            " BsmtHalfBath:  0\n",
            " FullBath:  0\n",
            " HalfBath:  0\n",
            " BedroomAbvGr:  0\n",
            " KitchenAbvGr:  0\n",
            " KitchenQual:  0\n",
            " TotRmsAbvGrd:  0\n",
            " Functional:  0\n",
            " Fireplaces:  0\n",
            " FireplaceQu:  0\n",
            " GarageType:  0\n",
            " GarageYrBlt:  0\n",
            " GarageFinish:  0\n",
            " GarageCars:  0\n",
            " GarageArea:  0\n",
            " GarageQual:  0\n",
            " GarageCond:  0\n",
            " PavedDrive:  0\n",
            " WoodDeckSF:  0\n",
            " OpenPorchSF:  0\n",
            " EnclosedPorch:  0\n",
            " 3SsnPorch:  0\n",
            " ScreenPorch:  0\n",
            " PoolArea:  0\n",
            " PoolQC:  0\n",
            " Fence:  0\n",
            " MiscFeature:  0\n",
            " MiscVal:  0\n",
            " MoSold:  0\n",
            " YrSold:  0\n",
            " SaleType:  0\n",
            " SaleCondition:  0\n",
            " SalePrice:  1459\n"
          ]
        }
      ]
    },
    {
      "cell_type": "markdown",
      "source": [
        "Codificação de colunas categóricas"
      ],
      "metadata": {
        "id": "VgxObcOEHAvN"
      }
    },
    {
      "cell_type": "code",
      "source": [
        "meta_test = df_test_clone.schema.fields"
      ],
      "metadata": {
        "id": "J-PyebCWgEYJ"
      },
      "execution_count": 126,
      "outputs": []
    },
    {
      "cell_type": "code",
      "source": [
        "colunas_categoricas_test = [field.name for field in meta_test if isinstance(field.dataType, StringType)]"
      ],
      "metadata": {
        "id": "eKOVDsQGgEVU"
      },
      "execution_count": 127,
      "outputs": []
    },
    {
      "cell_type": "code",
      "source": [
        "indexers = []"
      ],
      "metadata": {
        "id": "kQnxtGGzgESM"
      },
      "execution_count": 128,
      "outputs": []
    },
    {
      "cell_type": "code",
      "source": [
        "# Itere sobre as colunas categóricas\n",
        "for coluna in colunas_categoricas_test:\n",
        "    # Crie um indexador para cada coluna categórica\n",
        "    indexer = StringIndexer(inputCol=coluna, outputCol=coluna + \"_encoded\")\n",
        "\n",
        "    # Ajuste o indexador aos dados de treinamento\n",
        "    model = indexer.fit(df_test_clone)\n",
        "\n",
        "    # Aplique a codificação à coluna no dataframe original\n",
        "    df_test_clone = model.transform(df_test_clone).drop(coluna)"
      ],
      "metadata": {
        "id": "diw8MSRfgEKs"
      },
      "execution_count": 129,
      "outputs": []
    },
    {
      "cell_type": "code",
      "source": [
        "print(len(df_test_clone.columns))"
      ],
      "metadata": {
        "colab": {
          "base_uri": "https://localhost:8080/"
        },
        "id": "4nexWAMKrq1d",
        "outputId": "c1ab9a94-d863-4523-f02b-61b6cc01876c"
      },
      "execution_count": 130,
      "outputs": [
        {
          "output_type": "stream",
          "name": "stdout",
          "text": [
            "81\n"
          ]
        }
      ]
    },
    {
      "cell_type": "markdown",
      "source": [
        "Criação de coluna unica chamada Features, utilizada pelo modelo de aprendizagem"
      ],
      "metadata": {
        "id": "M5_KGK1KG6Hv"
      }
    },
    {
      "cell_type": "code",
      "source": [
        "colunas_para_selecionar = [coluna for coluna in df_test_clone.columns if coluna != \"Id\" and coluna != \"SalePrice\"]"
      ],
      "metadata": {
        "id": "e70WflCqp1s0"
      },
      "execution_count": 131,
      "outputs": []
    },
    {
      "cell_type": "code",
      "source": [
        "vector_assembler = VectorAssembler(inputCols=colunas_para_selecionar, outputCol=\"features\")"
      ],
      "metadata": {
        "id": "YVUsPyyrgEEj"
      },
      "execution_count": 132,
      "outputs": []
    },
    {
      "cell_type": "code",
      "source": [
        "df_com_features_test = vector_assembler.transform(df_test_clone)"
      ],
      "metadata": {
        "id": "o47H5qqqgEBr"
      },
      "execution_count": 133,
      "outputs": []
    },
    {
      "cell_type": "code",
      "source": [
        "df_com_features_test.show(truncate=False)"
      ],
      "metadata": {
        "colab": {
          "base_uri": "https://localhost:8080/"
        },
        "id": "m-eMjQ5_mOLJ",
        "outputId": "da1c493c-be20-420e-ae36-26a7bd56e926"
      },
      "execution_count": 134,
      "outputs": [
        {
          "output_type": "stream",
          "name": "stdout",
          "text": [
            "+----+----------+-----------------+-------+-----------+-----------+---------+------------+----------+----------+----------+---------+-----------+--------+--------+------------+---------+------------+------------+--------+--------+------------+------------+------------+----------+-----------+----------+----------+----------+-----------+-------------+---------+-----------+--------+-------+------+------+---------+----------------+--------------+-------------+----------------+-------------------+-----------------+-----------------+-----------------+--------------------+------------------+------------------+----------------+------------------+-----------------+----------------+-------------------+-------------------+------------------+-----------------+-----------------+------------------+----------------+----------------+--------------------+--------------------+--------------------+---------------+-----------------+------------------+------------------+-------------------+------------------+-------------------+------------------+--------------------+------------------+------------------+------------------+--------------+-------------+-------------------+----------------+---------------------+---------------------------------------------------------------------------------------------------------------------------------------------------------------------------------------------------------------------------------------------------------------------------------------------------------------------+\n",
            "|Id  |MSSubClass|LotFrontage      |LotArea|OverallQual|OverallCond|YearBuilt|YearRemodAdd|MasVnrArea|BsmtFinSF1|BsmtFinSF2|BsmtUnfSF|TotalBsmtSF|1stFlrSF|2ndFlrSF|LowQualFinSF|GrLivArea|BsmtFullBath|BsmtHalfBath|FullBath|HalfBath|BedroomAbvGr|KitchenAbvGr|TotRmsAbvGrd|Fireplaces|GarageYrBlt|GarageCars|GarageArea|WoodDeckSF|OpenPorchSF|EnclosedPorch|3SsnPorch|ScreenPorch|PoolArea|MiscVal|MoSold|YrSold|SalePrice|MSZoning_encoded|Street_encoded|Alley_encoded|LotShape_encoded|LandContour_encoded|Utilities_encoded|LotConfig_encoded|LandSlope_encoded|Neighborhood_encoded|Condition1_encoded|Condition2_encoded|BldgType_encoded|HouseStyle_encoded|RoofStyle_encoded|RoofMatl_encoded|Exterior1st_encoded|Exterior2nd_encoded|MasVnrType_encoded|ExterQual_encoded|ExterCond_encoded|Foundation_encoded|BsmtQual_encoded|BsmtCond_encoded|BsmtExposure_encoded|BsmtFinType1_encoded|BsmtFinType2_encoded|Heating_encoded|HeatingQC_encoded|CentralAir_encoded|Electrical_encoded|KitchenQual_encoded|Functional_encoded|FireplaceQu_encoded|GarageType_encoded|GarageFinish_encoded|GarageQual_encoded|GarageCond_encoded|PavedDrive_encoded|PoolQC_encoded|Fence_encoded|MiscFeature_encoded|SaleType_encoded|SaleCondition_encoded|features                                                                                                                                                                                                                                                                                                             |\n",
            "+----+----------+-----------------+-------+-----------+-----------+---------+------------+----------+----------+----------+---------+-----------+--------+--------+------------+---------+------------+------------+--------+--------+------------+------------+------------+----------+-----------+----------+----------+----------+-----------+-------------+---------+-----------+--------+-------+------+------+---------+----------------+--------------+-------------+----------------+-------------------+-----------------+-----------------+-----------------+--------------------+------------------+------------------+----------------+------------------+-----------------+----------------+-------------------+-------------------+------------------+-----------------+-----------------+------------------+----------------+----------------+--------------------+--------------------+--------------------+---------------+-----------------+------------------+------------------+-------------------+------------------+-------------------+------------------+--------------------+------------------+------------------+------------------+--------------+-------------+-------------------+----------------+---------------------+---------------------------------------------------------------------------------------------------------------------------------------------------------------------------------------------------------------------------------------------------------------------------------------------------------------------+\n",
            "|1461|20.0      |80.0             |11622.0|5.0        |6.0        |1961.0   |1961.0      |0.0       |468.0     |144.0     |270.0    |882.0      |896.0   |0.0     |0.0         |896.0    |0.0         |0.0         |1.0     |0.0     |2.0         |1.0         |5.0         |0.0       |1961.0     |1.0       |730.0     |140.0     |0.0        |0.0          |0.0      |120.0      |0.0     |0.0    |6.0   |2010.0|null     |4.0             |0.0           |0.0          |0.0             |0.0                |0.0              |0.0              |0.0              |0.0                 |1.0               |0.0               |0.0             |0.0               |0.0              |0.0             |0.0                |0.0                |0.0               |0.0              |0.0              |1.0               |0.0             |0.0             |0.0                 |3.0                 |3.0                 |0.0            |1.0              |0.0               |0.0               |0.0                |0.0               |0.0                |0.0               |0.0                 |0.0               |0.0               |0.0               |0.0           |1.0          |0.0                |0.0             |0.0                  |(79,[0,1,2,3,4,5,6,8,9,10,11,12,15,18,20,21,22,24,25,26,27,31,34,35,36,45,56,60,61,63,75],[20.0,80.0,11622.0,5.0,6.0,1961.0,1961.0,468.0,144.0,270.0,882.0,896.0,896.0,1.0,2.0,1.0,5.0,1961.0,1.0,730.0,140.0,120.0,6.0,2010.0,4.0,1.0,1.0,3.0,3.0,1.0,1.0])                                                         |\n",
            "|1462|20.0      |81.0             |14267.0|6.0        |6.0        |1958.0   |1958.0      |108.0     |923.0     |0.0       |406.0    |1329.0     |1329.0  |0.0     |0.0         |1329.0   |0.0         |0.0         |1.0     |1.0     |3.0         |1.0         |6.0         |0.0       |1958.0     |1.0       |312.0     |393.0     |36.0       |0.0          |0.0      |0.0        |0.0     |12500.0|6.0   |2010.0|null     |0.0             |0.0           |0.0          |1.0             |0.0                |0.0              |1.0              |0.0              |0.0                 |0.0               |0.0               |0.0             |0.0               |1.0              |0.0             |3.0                |3.0                |1.0               |0.0              |0.0              |1.0               |0.0             |0.0             |0.0                 |2.0                 |0.0                 |0.0            |1.0              |0.0               |0.0               |1.0                |0.0               |0.0                |0.0               |0.0                 |0.0               |0.0               |0.0               |0.0           |0.0          |2.0                |0.0             |0.0                  |(79,[0,1,2,3,4,5,6,7,8,10,11,12,15,18,19,20,21,22,24,25,26,27,28,33,34,35,39,42,49,51,52,53,56,60,63,66,76],[20.0,81.0,14267.0,6.0,6.0,1958.0,1958.0,108.0,923.0,406.0,1329.0,1329.0,1329.0,1.0,1.0,3.0,1.0,6.0,1958.0,1.0,312.0,393.0,36.0,12500.0,6.0,2010.0,1.0,1.0,1.0,3.0,3.0,1.0,1.0,2.0,1.0,1.0,2.0])         |\n",
            "|1463|60.0      |74.0             |13830.0|5.0        |5.0        |1997.0   |1998.0      |0.0       |791.0     |0.0       |137.0    |928.0      |928.0   |701.0   |0.0         |1629.0   |0.0         |0.0         |2.0     |1.0     |3.0         |1.0         |6.0         |1.0       |1997.0     |2.0       |482.0     |212.0     |34.0       |0.0          |0.0      |0.0        |0.0     |0.0    |3.0   |2010.0|null     |0.0             |0.0           |0.0          |1.0             |0.0                |0.0              |0.0              |0.0              |6.0                 |0.0               |0.0               |0.0             |1.0               |0.0              |0.0             |0.0                |0.0                |0.0               |0.0              |0.0              |0.0               |1.0             |0.0             |0.0                 |0.0                 |0.0                 |0.0            |2.0              |0.0               |0.0               |0.0                |0.0               |2.0                |0.0               |2.0                 |0.0               |0.0               |0.0               |0.0           |1.0          |0.0                |0.0             |0.0                  |(79,[0,1,2,3,4,5,6,8,10,11,12,13,15,18,19,20,21,22,23,24,25,26,27,28,34,35,39,44,48,57,63,68,70,75],[60.0,74.0,13830.0,5.0,5.0,1997.0,1998.0,791.0,137.0,928.0,928.0,701.0,1629.0,2.0,1.0,3.0,1.0,6.0,1.0,1997.0,2.0,482.0,212.0,34.0,3.0,2010.0,1.0,6.0,1.0,1.0,2.0,2.0,2.0,1.0])                                   |\n",
            "|1464|60.0      |78.0             |9978.0 |6.0        |6.0        |1998.0   |1998.0      |20.0      |602.0     |0.0       |324.0    |926.0      |926.0   |678.0   |0.0         |1604.0   |0.0         |0.0         |2.0     |1.0     |3.0         |1.0         |7.0         |1.0       |1998.0     |2.0       |470.0     |360.0     |36.0       |0.0          |0.0      |0.0        |0.0     |0.0    |6.0   |2010.0|null     |0.0             |0.0           |0.0          |1.0             |0.0                |0.0              |0.0              |0.0              |6.0                 |0.0               |0.0               |0.0             |1.0               |0.0              |0.0             |0.0                |0.0                |1.0               |0.0              |0.0              |0.0               |0.0             |0.0             |0.0                 |0.0                 |0.0                 |0.0            |0.0              |0.0               |0.0               |1.0                |0.0               |1.0                |0.0               |2.0                 |0.0               |0.0               |0.0               |0.0           |0.0          |0.0                |0.0             |0.0                  |(79,[0,1,2,3,4,5,6,7,8,10,11,12,13,15,18,19,20,21,22,23,24,25,26,27,28,34,35,39,44,48,53,66,68,70],[60.0,78.0,9978.0,6.0,6.0,1998.0,1998.0,20.0,602.0,324.0,926.0,926.0,678.0,1604.0,2.0,1.0,3.0,1.0,7.0,1.0,1998.0,2.0,470.0,360.0,36.0,6.0,2010.0,1.0,6.0,1.0,1.0,1.0,1.0,2.0])                                    |\n",
            "|1465|120.0     |43.0             |5005.0 |8.0        |5.0        |1992.0   |1992.0      |0.0       |263.0     |0.0       |1017.0   |1280.0     |1280.0  |0.0     |0.0         |1280.0   |0.0         |0.0         |2.0     |0.0     |2.0         |1.0         |5.0         |0.0       |1992.0     |2.0       |506.0     |0.0       |82.0       |0.0          |0.0      |144.0      |0.0     |0.0    |1.0   |2010.0|null     |0.0             |0.0           |0.0          |1.0             |1.0                |0.0              |0.0              |0.0              |16.0                |0.0               |0.0               |1.0             |0.0               |0.0              |0.0             |2.0                |2.0                |0.0               |1.0              |0.0              |0.0               |1.0             |0.0             |0.0                 |2.0                 |0.0                 |0.0            |0.0              |0.0               |0.0               |1.0                |0.0               |0.0                |0.0               |1.0                 |0.0               |0.0               |0.0               |0.0           |0.0          |0.0                |0.0             |0.0                  |(79,[0,1,2,3,4,5,6,8,10,11,12,15,18,20,21,22,24,25,26,28,31,34,35,39,40,44,47,51,52,54,57,60,66,70],[120.0,43.0,5005.0,8.0,5.0,1992.0,1992.0,263.0,1017.0,1280.0,1280.0,1280.0,2.0,2.0,1.0,5.0,1992.0,2.0,506.0,82.0,144.0,1.0,2010.0,1.0,1.0,16.0,1.0,2.0,2.0,1.0,1.0,2.0,1.0,1.0])                                 |\n",
            "|1466|60.0      |75.0             |10000.0|6.0        |5.0        |1993.0   |1994.0      |0.0       |0.0       |0.0       |763.0    |763.0      |763.0   |892.0   |0.0         |1655.0   |0.0         |0.0         |2.0     |1.0     |3.0         |1.0         |7.0         |1.0       |1993.0     |2.0       |440.0     |157.0     |84.0       |0.0          |0.0      |0.0        |0.0     |0.0    |4.0   |2010.0|null     |0.0             |0.0           |0.0          |1.0             |0.0                |0.0              |1.0              |0.0              |6.0                 |0.0               |0.0               |0.0             |1.0               |0.0              |0.0             |2.0                |2.0                |0.0               |0.0              |0.0              |0.0               |1.0             |0.0             |0.0                 |1.0                 |0.0                 |0.0            |2.0              |0.0               |0.0               |0.0                |0.0               |2.0                |0.0               |2.0                 |0.0               |0.0               |0.0               |0.0           |0.0          |0.0                |0.0             |0.0                  |(79,[0,1,2,3,4,5,6,10,11,12,13,15,18,19,20,21,22,23,24,25,26,27,28,34,35,39,42,44,48,51,52,57,60,63,68,70],[60.0,75.0,10000.0,6.0,5.0,1993.0,1994.0,763.0,763.0,763.0,892.0,1655.0,2.0,1.0,3.0,1.0,7.0,1.0,1993.0,2.0,440.0,157.0,84.0,4.0,2010.0,1.0,1.0,6.0,1.0,2.0,2.0,1.0,1.0,2.0,2.0,2.0])                      |\n",
            "|1467|20.0      |68.58035714285714|7980.0 |6.0        |7.0        |1992.0   |2007.0      |0.0       |935.0     |0.0       |233.0    |1168.0     |1187.0  |0.0     |0.0         |1187.0   |1.0         |0.0         |2.0     |0.0     |3.0         |1.0         |6.0         |0.0       |1992.0     |2.0       |420.0     |483.0     |21.0       |0.0          |0.0      |0.0        |0.0     |500.0  |3.0   |2010.0|null     |0.0             |0.0           |0.0          |1.0             |0.0                |0.0              |0.0              |0.0              |6.0                 |0.0               |0.0               |0.0             |0.0               |0.0              |0.0             |2.0                |2.0                |0.0               |0.0              |1.0              |0.0               |1.0             |0.0             |0.0                 |2.0                 |0.0                 |0.0            |0.0              |0.0               |0.0               |0.0                |0.0               |0.0                |0.0               |2.0                 |0.0               |0.0               |0.0               |0.0           |2.0          |1.0                |0.0             |0.0                  |(79,[0,1,2,3,4,5,6,8,10,11,12,15,16,18,20,21,22,24,25,26,27,28,33,34,35,39,44,51,52,55,57,60,70,75,76],[20.0,68.58035714285714,7980.0,6.0,7.0,1992.0,2007.0,935.0,233.0,1168.0,1187.0,1187.0,1.0,2.0,3.0,1.0,6.0,1992.0,2.0,420.0,483.0,21.0,500.0,3.0,2010.0,1.0,6.0,2.0,2.0,1.0,1.0,2.0,2.0,2.0,1.0])              |\n",
            "|1468|60.0      |63.0             |8402.0 |6.0        |5.0        |1998.0   |1998.0      |0.0       |0.0       |0.0       |789.0    |789.0      |789.0   |676.0   |0.0         |1465.0   |0.0         |0.0         |2.0     |1.0     |3.0         |1.0         |7.0         |1.0       |1998.0     |2.0       |393.0     |0.0       |75.0       |0.0          |0.0      |0.0        |0.0     |0.0    |5.0   |2010.0|null     |0.0             |0.0           |0.0          |1.0             |0.0                |0.0              |0.0              |0.0              |6.0                 |0.0               |0.0               |0.0             |1.0               |0.0              |0.0             |0.0                |0.0                |0.0               |0.0              |0.0              |0.0               |1.0             |0.0             |0.0                 |1.0                 |0.0                 |0.0            |2.0              |0.0               |0.0               |0.0                |0.0               |1.0                |0.0               |2.0                 |0.0               |0.0               |0.0               |0.0           |0.0          |0.0                |0.0             |0.0                  |(79,[0,1,2,3,4,5,6,10,11,12,13,15,18,19,20,21,22,23,24,25,26,28,34,35,39,44,48,57,60,63,68,70],[60.0,63.0,8402.0,6.0,5.0,1998.0,1998.0,789.0,789.0,789.0,676.0,1465.0,2.0,1.0,3.0,1.0,7.0,1.0,1998.0,2.0,393.0,75.0,5.0,2010.0,1.0,6.0,1.0,1.0,1.0,2.0,1.0,2.0])                                                     |\n",
            "|1469|20.0      |85.0             |10176.0|7.0        |5.0        |1990.0   |1990.0      |0.0       |637.0     |0.0       |663.0    |1300.0     |1341.0  |0.0     |0.0         |1341.0   |1.0         |0.0         |1.0     |1.0     |2.0         |1.0         |5.0         |1.0       |1990.0     |2.0       |506.0     |192.0     |0.0        |0.0          |0.0      |0.0        |0.0     |0.0    |2.0   |2010.0|null     |0.0             |0.0           |0.0          |0.0             |0.0                |0.0              |0.0              |0.0              |6.0                 |0.0               |0.0               |0.0             |0.0               |0.0              |0.0             |2.0                |2.0                |0.0               |0.0              |0.0              |0.0               |1.0             |0.0             |2.0                 |0.0                 |0.0                 |0.0            |2.0              |0.0               |0.0               |1.0                |0.0               |4.0                |0.0               |0.0                 |0.0               |0.0               |0.0               |0.0           |0.0          |0.0                |0.0             |0.0                  |(79,[0,1,2,3,4,5,6,8,10,11,12,15,16,18,19,20,21,22,23,24,25,26,27,34,35,44,51,52,57,59,63,66,68],[20.0,85.0,10176.0,7.0,5.0,1990.0,1990.0,637.0,663.0,1300.0,1341.0,1341.0,1.0,1.0,1.0,2.0,1.0,5.0,1.0,1990.0,2.0,506.0,192.0,2.0,2010.0,6.0,2.0,2.0,1.0,2.0,2.0,1.0,4.0])                                           |\n",
            "|1470|20.0      |70.0             |8400.0 |4.0        |5.0        |1970.0   |1970.0      |0.0       |804.0     |78.0      |0.0      |882.0      |882.0   |0.0     |0.0         |882.0    |1.0         |0.0         |1.0     |0.0     |2.0         |1.0         |4.0         |0.0       |1970.0     |2.0       |525.0     |240.0     |0.0        |0.0          |0.0      |0.0        |0.0     |0.0    |4.0   |2010.0|null     |0.0             |0.0           |0.0          |0.0             |0.0                |0.0              |1.0              |0.0              |0.0                 |0.0               |0.0               |0.0             |0.0               |0.0              |0.0             |4.0                |4.0                |0.0               |0.0              |0.0              |1.0               |0.0             |0.0             |0.0                 |2.0                 |1.0                 |0.0            |1.0              |0.0               |0.0               |0.0                |0.0               |0.0                |0.0               |2.0                 |0.0               |0.0               |0.0               |0.0           |1.0          |0.0                |0.0             |0.0                  |(79,[0,1,2,3,4,5,6,8,9,11,12,15,16,18,20,21,22,24,25,26,27,34,35,42,51,52,56,60,61,63,70,75],[20.0,70.0,8400.0,4.0,5.0,1970.0,1970.0,804.0,78.0,882.0,882.0,882.0,1.0,1.0,2.0,1.0,4.0,1970.0,2.0,525.0,240.0,4.0,2010.0,1.0,4.0,4.0,1.0,2.0,1.0,1.0,2.0,1.0])                                                        |\n",
            "|1471|120.0     |26.0             |5858.0 |7.0        |5.0        |1999.0   |1999.0      |0.0       |1051.0    |0.0       |354.0    |1405.0     |1337.0  |0.0     |0.0         |1337.0   |1.0         |0.0         |2.0     |0.0     |2.0         |1.0         |5.0         |1.0       |1999.0     |2.0       |511.0     |203.0     |68.0       |0.0          |0.0      |0.0        |0.0     |0.0    |6.0   |2010.0|null     |4.0             |0.0           |0.0          |1.0             |0.0                |0.0              |3.0              |0.0              |0.0                 |0.0               |0.0               |1.0             |0.0               |0.0              |0.0             |1.0                |1.0                |0.0               |1.0              |0.0              |0.0               |1.0             |0.0             |0.0                 |0.0                 |4.0                 |0.0            |0.0              |0.0               |0.0               |1.0                |0.0               |3.0                |0.0               |2.0                 |0.0               |0.0               |0.0               |0.0           |0.0          |0.0                |0.0             |0.0                  |(79,[0,1,2,3,4,5,6,8,10,11,12,15,16,18,20,21,22,23,24,25,26,27,28,34,35,36,39,42,47,51,52,54,57,61,66,68,70],[120.0,26.0,5858.0,7.0,5.0,1999.0,1999.0,1051.0,354.0,1405.0,1337.0,1337.0,1.0,2.0,2.0,1.0,5.0,1.0,1999.0,2.0,511.0,203.0,68.0,6.0,2010.0,4.0,1.0,3.0,1.0,1.0,1.0,1.0,1.0,4.0,1.0,3.0,2.0])             |\n",
            "|1472|160.0     |21.0             |1680.0 |6.0        |5.0        |1971.0   |1971.0      |504.0     |156.0     |0.0       |327.0    |483.0      |483.0   |504.0   |0.0         |987.0    |0.0         |0.0         |1.0     |1.0     |2.0         |1.0         |5.0         |0.0       |1971.0     |1.0       |264.0     |275.0     |0.0        |0.0          |0.0      |0.0        |0.0     |0.0    |2.0   |2010.0|null     |1.0             |0.0           |0.0          |0.0             |0.0                |0.0              |0.0              |0.0              |20.0                |0.0               |0.0               |3.0             |1.0               |0.0              |0.0             |2.0                |2.0                |1.0               |0.0              |0.0              |1.0               |0.0             |0.0             |0.0                 |3.0                 |0.0                 |0.0            |1.0              |0.0               |0.0               |0.0                |0.0               |0.0                |1.0               |0.0                 |0.0               |0.0               |0.0               |0.0           |0.0          |0.0                |2.0             |0.0                  |(79,[0,1,2,3,4,5,6,7,8,10,11,12,13,15,18,19,20,21,22,24,25,26,27,34,35,36,44,47,48,51,52,53,56,60,63,69,77],[160.0,21.0,1680.0,6.0,5.0,1971.0,1971.0,504.0,156.0,327.0,483.0,483.0,504.0,987.0,1.0,1.0,2.0,1.0,5.0,1971.0,1.0,264.0,275.0,2.0,2010.0,1.0,20.0,3.0,1.0,2.0,2.0,1.0,1.0,3.0,1.0,1.0,2.0])              |\n",
            "|1473|160.0     |21.0             |1680.0 |5.0        |5.0        |1971.0   |1971.0      |492.0     |300.0     |0.0       |225.0    |525.0      |525.0   |567.0   |0.0         |1092.0   |0.0         |0.0         |1.0     |1.0     |3.0         |1.0         |6.0         |0.0       |1997.0     |1.0       |320.0     |0.0       |0.0        |0.0          |0.0      |0.0        |0.0     |0.0    |3.0   |2010.0|null     |1.0             |0.0           |0.0          |0.0             |0.0                |0.0              |0.0              |0.0              |20.0                |0.0               |0.0               |3.0             |1.0               |0.0              |0.0             |2.0                |2.0                |1.0               |0.0              |0.0              |1.0               |0.0             |0.0             |0.0                 |3.0                 |0.0                 |0.0            |1.0              |0.0               |0.0               |0.0                |0.0               |0.0                |1.0               |0.0                 |0.0               |0.0               |0.0               |0.0           |0.0          |0.0                |0.0             |0.0                  |(79,[0,1,2,3,4,5,6,7,8,10,11,12,13,15,18,19,20,21,22,24,25,26,34,35,36,44,47,48,51,52,53,56,60,63,69],[160.0,21.0,1680.0,5.0,5.0,1971.0,1971.0,492.0,300.0,225.0,525.0,525.0,567.0,1092.0,1.0,1.0,3.0,1.0,6.0,1997.0,1.0,320.0,3.0,2010.0,1.0,20.0,3.0,1.0,2.0,2.0,1.0,1.0,3.0,1.0,1.0])                             |\n",
            "|1474|160.0     |24.0             |2280.0 |6.0        |6.0        |1975.0   |1975.0      |0.0       |514.0     |0.0       |341.0    |855.0      |855.0   |601.0   |0.0         |1456.0   |0.0         |0.0         |2.0     |1.0     |3.0         |1.0         |6.0         |1.0       |1975.0     |2.0       |440.0     |173.0     |0.0        |0.0          |0.0      |0.0        |0.0     |0.0    |6.0   |2010.0|null     |0.0             |0.0           |0.0          |0.0             |0.0                |0.0              |3.0              |0.0              |21.0                |0.0               |0.0               |3.0             |1.0               |0.0              |0.0             |4.0                |10.0               |0.0               |0.0              |0.0              |1.0               |0.0             |0.0             |0.0                 |2.0                 |0.0                 |0.0            |1.0              |0.0               |0.0               |1.0                |0.0               |2.0                |0.0               |0.0                 |0.0               |0.0               |0.0               |0.0           |0.0          |0.0                |0.0             |0.0                  |(79,[0,1,2,3,4,5,6,8,10,11,12,13,15,18,19,20,21,22,23,24,25,26,27,34,35,42,44,47,48,51,52,56,60,63,66,68],[160.0,24.0,2280.0,6.0,6.0,1975.0,1975.0,514.0,341.0,855.0,855.0,601.0,1456.0,2.0,1.0,3.0,1.0,6.0,1.0,1975.0,2.0,440.0,173.0,6.0,2010.0,3.0,21.0,3.0,1.0,4.0,10.0,1.0,2.0,1.0,1.0,2.0])                    |\n",
            "|1475|120.0     |24.0             |2280.0 |7.0        |6.0        |1975.0   |1975.0      |0.0       |0.0       |0.0       |836.0    |836.0      |836.0   |0.0     |0.0         |836.0    |0.0         |0.0         |1.0     |0.0     |2.0         |1.0         |4.0         |0.0       |1975.0     |1.0       |308.0     |0.0       |30.0       |0.0          |0.0      |0.0        |0.0     |0.0    |6.0   |2010.0|null     |0.0             |0.0           |0.0          |0.0             |0.0                |0.0              |3.0              |0.0              |21.0                |0.0               |0.0               |3.0             |0.0               |0.0              |0.0             |4.0                |10.0               |0.0               |0.0              |0.0              |1.0               |1.0             |0.0             |0.0                 |1.0                 |0.0                 |0.0            |0.0              |0.0               |0.0               |0.0                |0.0               |0.0                |0.0               |0.0                 |0.0               |0.0               |0.0               |0.0           |0.0          |0.0                |0.0             |0.0                  |(79,[0,1,2,3,4,5,6,10,11,12,15,18,20,21,22,24,25,26,28,34,35,42,44,47,51,52,56,57,60],[120.0,24.0,2280.0,7.0,6.0,1975.0,1975.0,836.0,836.0,836.0,836.0,1.0,2.0,1.0,4.0,1975.0,1.0,308.0,30.0,6.0,2010.0,3.0,21.0,3.0,4.0,10.0,1.0,1.0,1.0])                                                                          |\n",
            "|1476|60.0      |102.0            |12858.0|9.0        |5.0        |2009.0   |2010.0      |162.0     |0.0       |0.0       |1590.0   |1590.0     |1627.0  |707.0   |0.0         |2334.0   |0.0         |0.0         |2.0     |1.0     |3.0         |1.0         |10.0        |1.0       |2009.0     |3.0       |751.0     |144.0     |133.0      |0.0          |0.0      |0.0        |0.0     |0.0    |1.0   |2010.0|null     |0.0             |0.0           |0.0          |1.0             |0.0                |0.0              |0.0              |0.0              |5.0                 |0.0               |0.0               |0.0             |1.0               |0.0              |0.0             |0.0                |0.0                |2.0               |2.0              |0.0              |0.0               |2.0             |0.0             |0.0                 |1.0                 |0.0                 |0.0            |0.0              |0.0               |0.0               |2.0                |0.0               |1.0                |0.0               |2.0                 |0.0               |0.0               |0.0               |0.0           |0.0          |0.0                |1.0             |1.0                  |(79,[0,1,2,3,4,5,6,7,10,11,12,13,15,18,19,20,21,22,23,24,25,26,27,28,34,35,39,44,48,53,54,57,60,66,68,70,77,78],[60.0,102.0,12858.0,9.0,5.0,2009.0,2010.0,162.0,1590.0,1590.0,1627.0,707.0,2334.0,2.0,1.0,3.0,1.0,10.0,1.0,2009.0,3.0,751.0,144.0,133.0,1.0,2010.0,1.0,5.0,1.0,2.0,2.0,2.0,1.0,2.0,1.0,2.0,1.0,1.0]) |\n",
            "|1477|20.0      |94.0             |12883.0|8.0        |5.0        |2009.0   |2010.0      |256.0     |0.0       |0.0       |1544.0   |1544.0     |1544.0  |0.0     |0.0         |1544.0   |0.0         |0.0         |2.0     |0.0     |3.0         |1.0         |7.0         |0.0       |2009.0     |3.0       |868.0     |0.0       |35.0       |0.0          |0.0      |0.0        |0.0     |0.0    |6.0   |2010.0|null     |0.0             |0.0           |0.0          |1.0             |0.0                |0.0              |1.0              |0.0              |5.0                 |0.0               |0.0               |0.0             |0.0               |0.0              |0.0             |0.0                |0.0                |2.0               |1.0              |0.0              |0.0               |1.0             |0.0             |0.0                 |1.0                 |0.0                 |0.0            |0.0              |0.0               |0.0               |1.0                |0.0               |0.0                |0.0               |1.0                 |0.0               |0.0               |0.0               |0.0           |0.0          |0.0                |1.0             |1.0                  |(79,[0,1,2,3,4,5,6,7,10,11,12,15,18,20,21,22,24,25,26,28,34,35,39,42,44,53,54,57,60,66,70,77,78],[20.0,94.0,12883.0,8.0,5.0,2009.0,2010.0,256.0,1544.0,1544.0,1544.0,1544.0,2.0,3.0,1.0,7.0,2009.0,3.0,868.0,35.0,6.0,2010.0,1.0,1.0,5.0,2.0,1.0,1.0,1.0,1.0,1.0,1.0,1.0])                                           |\n",
            "|1478|20.0      |90.0             |11520.0|9.0        |5.0        |2005.0   |2005.0      |615.0     |110.0     |0.0       |1588.0   |1698.0     |1698.0  |0.0     |0.0         |1698.0   |0.0         |0.0         |2.0     |0.0     |3.0         |1.0         |7.0         |1.0       |2005.0     |3.0       |730.0     |192.0     |74.0       |0.0          |0.0      |0.0        |0.0     |0.0    |6.0   |2010.0|null     |0.0             |0.0           |0.0          |0.0             |0.0                |0.0              |0.0              |0.0              |5.0                 |4.0               |0.0               |0.0             |0.0               |1.0              |0.0             |0.0                |0.0                |1.0               |1.0              |0.0              |0.0               |2.0             |0.0             |0.0                 |0.0                 |0.0                 |0.0            |0.0              |0.0               |0.0               |2.0                |0.0               |1.0                |0.0               |2.0                 |0.0               |0.0               |0.0               |0.0           |0.0          |0.0                |0.0             |0.0                  |(79,[0,1,2,3,4,5,6,7,8,10,11,12,15,18,20,21,22,23,24,25,26,27,28,34,35,44,45,49,53,54,57,66,68,70],[20.0,90.0,11520.0,9.0,5.0,2005.0,2005.0,615.0,110.0,1588.0,1698.0,1698.0,1698.0,2.0,3.0,1.0,7.0,1.0,2005.0,3.0,730.0,192.0,74.0,6.0,2010.0,5.0,4.0,1.0,1.0,1.0,2.0,2.0,1.0,2.0])                                 |\n",
            "|1479|20.0      |79.0             |14122.0|8.0        |5.0        |2005.0   |2006.0      |240.0     |28.0      |0.0       |1794.0   |1822.0     |1822.0  |0.0     |0.0         |1822.0   |0.0         |0.0         |2.0     |0.0     |3.0         |1.0         |8.0         |1.0       |2005.0     |3.0       |678.0     |0.0       |119.0      |0.0          |0.0      |0.0        |0.0     |0.0    |2.0   |2010.0|null     |0.0             |0.0           |0.0          |1.0             |0.0                |0.0              |0.0              |0.0              |5.0                 |0.0               |0.0               |0.0             |0.0               |1.0              |0.0             |5.0                |5.0                |1.0               |1.0              |0.0              |0.0               |2.0             |0.0             |0.0                 |0.0                 |0.0                 |0.0            |0.0              |0.0               |0.0               |2.0                |0.0               |1.0                |0.0               |1.0                 |0.0               |0.0               |0.0               |0.0           |0.0          |0.0                |0.0             |0.0                  |(79,[0,1,2,3,4,5,6,7,8,10,11,12,15,18,20,21,22,23,24,25,26,28,34,35,39,44,49,51,52,53,54,57,66,68,70],[20.0,79.0,14122.0,8.0,5.0,2005.0,2006.0,240.0,28.0,1794.0,1822.0,1822.0,1822.0,2.0,3.0,1.0,8.0,1.0,2005.0,3.0,678.0,119.0,2.0,2010.0,1.0,5.0,1.0,5.0,5.0,1.0,1.0,2.0,2.0,1.0,1.0])                            |\n",
            "|1480|20.0      |110.0            |14300.0|9.0        |5.0        |2003.0   |2004.0      |1095.0    |1373.0    |0.0       |1473.0   |2846.0     |2696.0  |0.0     |0.0         |2696.0   |1.0         |0.0         |2.0     |1.0     |3.0         |1.0         |10.0        |2.0       |2003.0     |3.0       |958.0     |220.0     |150.0      |0.0          |0.0      |0.0        |0.0     |0.0    |6.0   |2010.0|null     |0.0             |0.0           |0.0          |0.0             |1.0                |0.0              |0.0              |1.0              |5.0                 |0.0               |0.0               |0.0             |0.0               |1.0              |0.0             |0.0                |0.0                |1.0               |2.0              |0.0              |0.0               |2.0             |0.0             |2.0                 |0.0                 |0.0                 |0.0            |0.0              |0.0               |0.0               |2.0                |0.0               |1.0                |0.0               |2.0                 |0.0               |0.0               |0.0               |0.0           |0.0          |0.0                |0.0             |0.0                  |(79,[0,1,2,3,4,5,6,7,8,10,11,12,15,16,18,19,20,21,22,23,24,25,26,27,28,34,35,40,43,44,49,53,54,57,59,66,68,70],[20.0,110.0,14300.0,9.0,5.0,2003.0,2004.0,1095.0,1373.0,1473.0,2846.0,2696.0,2696.0,1.0,2.0,1.0,3.0,1.0,10.0,2.0,2003.0,3.0,958.0,220.0,150.0,6.0,2010.0,1.0,1.0,5.0,1.0,1.0,2.0,2.0,2.0,2.0,1.0,2.0])|\n",
            "+----+----------+-----------------+-------+-----------+-----------+---------+------------+----------+----------+----------+---------+-----------+--------+--------+------------+---------+------------+------------+--------+--------+------------+------------+------------+----------+-----------+----------+----------+----------+-----------+-------------+---------+-----------+--------+-------+------+------+---------+----------------+--------------+-------------+----------------+-------------------+-----------------+-----------------+-----------------+--------------------+------------------+------------------+----------------+------------------+-----------------+----------------+-------------------+-------------------+------------------+-----------------+-----------------+------------------+----------------+----------------+--------------------+--------------------+--------------------+---------------+-----------------+------------------+------------------+-------------------+------------------+-------------------+------------------+--------------------+------------------+------------------+------------------+--------------+-------------+-------------------+----------------+---------------------+---------------------------------------------------------------------------------------------------------------------------------------------------------------------------------------------------------------------------------------------------------------------------------------------------------------------+\n",
            "only showing top 20 rows\n",
            "\n"
          ]
        }
      ]
    },
    {
      "cell_type": "markdown",
      "source": [
        "Copiando somente as três colunas Id, SalePrice e features em um novo DataFrame"
      ],
      "metadata": {
        "id": "tvQkWXNgHMey"
      }
    },
    {
      "cell_type": "code",
      "source": [
        "df_features_test = df_com_features_test.select(\"Id\", \"SalePrice\", \"features\")"
      ],
      "metadata": {
        "id": "5ITSmFFbgD-O"
      },
      "execution_count": 135,
      "outputs": []
    },
    {
      "cell_type": "markdown",
      "source": [
        "Teste do modelo"
      ],
      "metadata": {
        "id": "S4AkMbxxHTTT"
      }
    },
    {
      "cell_type": "code",
      "source": [
        "df_predictions_test = modelo.transform(df_features_test)"
      ],
      "metadata": {
        "id": "987nNPR8CEkN"
      },
      "execution_count": 136,
      "outputs": []
    },
    {
      "cell_type": "code",
      "source": [
        "df_predictions_test.show(5)"
      ],
      "metadata": {
        "colab": {
          "base_uri": "https://localhost:8080/"
        },
        "id": "DFThnzUEl91g",
        "outputId": "6338842d-8689-4f4a-a229-6a87fc8e2548"
      },
      "execution_count": 137,
      "outputs": [
        {
          "output_type": "stream",
          "name": "stdout",
          "text": [
            "+----+---------+--------------------+------------------+\n",
            "|  Id|SalePrice|            features|        prediction|\n",
            "+----+---------+--------------------+------------------+\n",
            "|1461|     null|(79,[0,1,2,3,4,5,...| 126056.7287301587|\n",
            "|1462|     null|(79,[0,1,2,3,4,5,...|155057.66666666666|\n",
            "|1463|     null|(79,[0,1,2,3,4,5,...|180525.21517094015|\n",
            "|1464|     null|(79,[0,1,2,3,4,5,...|184965.22520146522|\n",
            "|1465|     null|(79,[0,1,2,3,4,5,...|200020.91676767677|\n",
            "+----+---------+--------------------+------------------+\n",
            "only showing top 5 rows\n",
            "\n"
          ]
        }
      ]
    },
    {
      "cell_type": "markdown",
      "source": [
        "Excluindo a coluna 'SalePrice' e 'features'"
      ],
      "metadata": {
        "id": "XRIPqeVsHirc"
      }
    },
    {
      "cell_type": "code",
      "source": [
        "df_res = df_predictions_test.drop('SalePrice', 'features')"
      ],
      "metadata": {
        "id": "g7dbellc2lw0"
      },
      "execution_count": 138,
      "outputs": []
    },
    {
      "cell_type": "markdown",
      "source": [
        "Renomeando a coluna prediction para SalePrice"
      ],
      "metadata": {
        "id": "cSSDPEttHvql"
      }
    },
    {
      "cell_type": "code",
      "source": [
        "df_res = df_res.withColumnRenamed(\"prediction\", \"SalePrice\")"
      ],
      "metadata": {
        "id": "OW1yNDPwgDxE"
      },
      "execution_count": 139,
      "outputs": []
    },
    {
      "cell_type": "code",
      "source": [
        "print(df_res.count())"
      ],
      "metadata": {
        "colab": {
          "base_uri": "https://localhost:8080/"
        },
        "id": "-I-m94Yvznaj",
        "outputId": "045f4b8b-1b8c-4045-c520-b63fd53511bd"
      },
      "execution_count": 140,
      "outputs": [
        {
          "output_type": "stream",
          "name": "stdout",
          "text": [
            "1459\n"
          ]
        }
      ]
    },
    {
      "cell_type": "code",
      "source": [
        "df_res.show(5)"
      ],
      "metadata": {
        "colab": {
          "base_uri": "https://localhost:8080/"
        },
        "id": "C2_h5cso3PPn",
        "outputId": "17246705-6d1d-4b6e-a52e-3d5ad0159e10"
      },
      "execution_count": 141,
      "outputs": [
        {
          "output_type": "stream",
          "name": "stdout",
          "text": [
            "+----+------------------+\n",
            "|  Id|         SalePrice|\n",
            "+----+------------------+\n",
            "|1461| 126056.7287301587|\n",
            "|1462|155057.66666666666|\n",
            "|1463|180525.21517094015|\n",
            "|1464|184965.22520146522|\n",
            "|1465|200020.91676767677|\n",
            "+----+------------------+\n",
            "only showing top 5 rows\n",
            "\n"
          ]
        }
      ]
    },
    {
      "cell_type": "markdown",
      "source": [
        "Crianção do arquivo Csv"
      ],
      "metadata": {
        "id": "kvSUpLJ1H4OH"
      }
    },
    {
      "cell_type": "code",
      "source": [
        "df_res.write.csv('/content/res/res.csv', header=True, mode=\"overwrite\")"
      ],
      "metadata": {
        "id": "nvPJcaVw3WCj"
      },
      "execution_count": 142,
      "outputs": []
    }
  ]
}
